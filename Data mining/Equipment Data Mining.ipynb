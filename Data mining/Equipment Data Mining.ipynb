{
 "cells": [
  {
   "cell_type": "markdown",
   "metadata": {},
   "source": [
    "# Equipment Held and Failed Durations\n",
    "Historically it's been difficult to get some manufacturing business metrics, specifically equpiment held and failed durations. This is not possible in Excel without going into the realms of VBA, so this notebook crawls through the data and returns the duration of interest.\n",
    "\n",
    "The duration output is used to prioritize investment/improvement projects."
   ]
  },
  {
   "cell_type": "markdown",
   "metadata": {},
   "source": [
    "## Library imports and notebook set up"
   ]
  },
  {
   "cell_type": "code",
   "execution_count": 17,
   "metadata": {
    "collapsed": false
   },
   "outputs": [],
   "source": [
    "import numpy as np\n",
    "import pandas as pd\n",
    "import matplotlib.pyplot as plt\n",
    "%matplotlib inline\n",
    "import seaborn as sns\n",
    "import copy\n",
    "import csv\n",
    "import datetime\n",
    "import re\n",
    "import pyodbc\n",
    "import sqlalchemy\n",
    "\n",
    "sns.set_context('poster')\n",
    "pd.set_option('display.max_colwidth', 150)"
   ]
  },
  {
   "cell_type": "markdown",
   "metadata": {},
   "source": [
    "## SQL statement"
   ]
  },
  {
   "cell_type": "code",
   "execution_count": 18,
   "metadata": {
    "collapsed": false
   },
   "outputs": [],
   "source": [
    "query = '''\n",
    "(select Batchid, eventtype, eventdescr, occurdate, occurtime, unit, action\n",
    "from Lotprompts\n",
    "\n",
    "where\n",
    "    occurtime > '01-01-2016' and\n",
    "    batchid like 'L_1659___'\n",
    ")\n",
    "\n",
    "union all\n",
    "\n",
    "(select Batchid, null as eventtype, eventdescr, occurdate, occurtime, unit, action\n",
    "from Lotstatechanges\n",
    "\n",
    "where\n",
    "    occurtime > '01-01-2016' and\n",
    "    batchid like 'L_1659___'\n",
    ")\n",
    "\n",
    "union all\n",
    "\n",
    "(select Batchid, null as eventtype, eventdescr, occurdate, occurtime, unit, action\n",
    "from LotReports\n",
    "\n",
    "where\n",
    "    occurtime > '01-01-2016' and\n",
    "    batchid like 'L_1659___'\n",
    ")\n",
    "\n",
    "order by Batchid, occurtime\n",
    "'''"
   ]
  },
  {
   "cell_type": "markdown",
   "metadata": {},
   "source": [
    "## Reading data file"
   ]
  },
  {
   "cell_type": "code",
   "execution_count": 19,
   "metadata": {
    "collapsed": false,
    "scrolled": true
   },
   "outputs": [],
   "source": [
    "engine = sqlalchemy.create_engine('mssql+pyodbc://uslhincuity/B5DataTables?driver=SQL+Server')\n",
    "connection = engine.connect()\n",
    "data_df = pd.read_sql_query(query,connection)\n",
    "connection.close()"
   ]
  },
  {
   "cell_type": "code",
   "execution_count": 20,
   "metadata": {
    "collapsed": false
   },
   "outputs": [
    {
     "data": {
      "text/html": [
       "<div>\n",
       "<table border=\"1\" class=\"dataframe\">\n",
       "  <thead>\n",
       "    <tr style=\"text-align: right;\">\n",
       "      <th></th>\n",
       "      <th>Batchid</th>\n",
       "      <th>eventtype</th>\n",
       "      <th>eventdescr</th>\n",
       "      <th>occurdate</th>\n",
       "      <th>occurtime</th>\n",
       "      <th>unit</th>\n",
       "      <th>action</th>\n",
       "    </tr>\n",
       "  </thead>\n",
       "  <tbody>\n",
       "    <tr>\n",
       "      <th>623883</th>\n",
       "      <td>LR1659266</td>\n",
       "      <td>None</td>\n",
       "      <td>State Changed:  RUNNING</td>\n",
       "      <td>2016-08-17</td>\n",
       "      <td>2016-08-17 15:11:51</td>\n",
       "      <td>V-007</td>\n",
       "      <td>\\\\FR_V_NG\\V007_PPT_FR1_UP:1-1\\\\\\</td>\n",
       "    </tr>\n",
       "    <tr>\n",
       "      <th>623884</th>\n",
       "      <td>LR1659266</td>\n",
       "      <td>None</td>\n",
       "      <td>State Changed:  RUNNING</td>\n",
       "      <td>2016-08-17</td>\n",
       "      <td>2016-08-17 15:11:51</td>\n",
       "      <td>V-007</td>\n",
       "      <td>\\\\FR_V_NG\\V007_PPT_FR1_UP:1-1\\PPT_FR1_OP:1-1\\\\</td>\n",
       "    </tr>\n",
       "    <tr>\n",
       "      <th>623885</th>\n",
       "      <td>LR1659266</td>\n",
       "      <td>None</td>\n",
       "      <td>State Changed:  COMPLETE</td>\n",
       "      <td>2016-08-17</td>\n",
       "      <td>2016-08-17 15:11:51</td>\n",
       "      <td>NULL_UNIT</td>\n",
       "      <td>\\\\FR_V_NG\\FRV_INIT_UP:1-1\\\\\\</td>\n",
       "    </tr>\n",
       "    <tr>\n",
       "      <th>623886</th>\n",
       "      <td>LR1659266</td>\n",
       "      <td>None</td>\n",
       "      <td>State Changed:  RUNNING</td>\n",
       "      <td>2016-08-17</td>\n",
       "      <td>2016-08-17 15:11:53</td>\n",
       "      <td>V-007</td>\n",
       "      <td>\\\\FR_V_NG\\V007_PPT_FR1_UP:1-1\\PPT_FR1_OP:1-1\\PPT_INIT_PH:1-1\\</td>\n",
       "    </tr>\n",
       "    <tr>\n",
       "      <th>623887</th>\n",
       "      <td>LR1659266</td>\n",
       "      <td>Operator Prompt</td>\n",
       "      <td>Bioburden, Tech Services, and pH samples pulled.  (~D~G7~) 0 phase_boolean</td>\n",
       "      <td>2016-08-17</td>\n",
       "      <td>2016-08-17 15:12:07</td>\n",
       "      <td>V-007</td>\n",
       "      <td>\\\\FR_V_NG\\V007_PPT_FR1_UP:1-1\\PPT_FR1_OP:1-1\\PPT_INIT_PH:1-1\\</td>\n",
       "    </tr>\n",
       "  </tbody>\n",
       "</table>\n",
       "</div>"
      ],
      "text/plain": [
       "          Batchid        eventtype  \\\n",
       "623883  LR1659266             None   \n",
       "623884  LR1659266             None   \n",
       "623885  LR1659266             None   \n",
       "623886  LR1659266             None   \n",
       "623887  LR1659266  Operator Prompt   \n",
       "\n",
       "                                                                          eventdescr  \\\n",
       "623883                                                      State Changed:  RUNNING    \n",
       "623884                                                      State Changed:  RUNNING    \n",
       "623885                                                     State Changed:  COMPLETE    \n",
       "623886                                                      State Changed:  RUNNING    \n",
       "623887  Bioburden, Tech Services, and pH samples pulled.  (~D~G7~) 0 phase_boolean     \n",
       "\n",
       "         occurdate           occurtime       unit  \\\n",
       "623883  2016-08-17 2016-08-17 15:11:51      V-007   \n",
       "623884  2016-08-17 2016-08-17 15:11:51      V-007   \n",
       "623885  2016-08-17 2016-08-17 15:11:51  NULL_UNIT   \n",
       "623886  2016-08-17 2016-08-17 15:11:53      V-007   \n",
       "623887  2016-08-17 2016-08-17 15:12:07      V-007   \n",
       "\n",
       "                                                               action  \n",
       "623883                               \\\\FR_V_NG\\V007_PPT_FR1_UP:1-1\\\\\\  \n",
       "623884                 \\\\FR_V_NG\\V007_PPT_FR1_UP:1-1\\PPT_FR1_OP:1-1\\\\  \n",
       "623885                                   \\\\FR_V_NG\\FRV_INIT_UP:1-1\\\\\\  \n",
       "623886  \\\\FR_V_NG\\V007_PPT_FR1_UP:1-1\\PPT_FR1_OP:1-1\\PPT_INIT_PH:1-1\\  \n",
       "623887  \\\\FR_V_NG\\V007_PPT_FR1_UP:1-1\\PPT_FR1_OP:1-1\\PPT_INIT_PH:1-1\\  "
      ]
     },
     "execution_count": 20,
     "metadata": {},
     "output_type": "execute_result"
    }
   ],
   "source": [
    "data_df.tail()"
   ]
  },
  {
   "cell_type": "markdown",
   "metadata": {},
   "source": [
    "## Data wrangling and cleaning"
   ]
  },
  {
   "cell_type": "code",
   "execution_count": 21,
   "metadata": {
    "collapsed": false,
    "scrolled": true
   },
   "outputs": [
    {
     "name": "stdout",
     "output_type": "stream",
     "text": [
      "There are 265 lots in the data.\n"
     ]
    }
   ],
   "source": [
    "# Grouping the data frame by batchid\n",
    "# The \\xef\\xbb\\xbf is from the encoding used to create the file, just have to include it.\n",
    "groupedData = data_df.groupby('Batchid')\n",
    "\n",
    "# Storing total number of lots into a list\n",
    "groupList = data_df.groupby('Batchid').indices.keys()\n",
    "groupList.sort()\n",
    "\n",
    "print 'There are {} lots in the data.'.format(len(groupList))"
   ]
  },
  {
   "cell_type": "code",
   "execution_count": 22,
   "metadata": {
    "collapsed": false,
    "scrolled": true
   },
   "outputs": [],
   "source": [
    "# Converting the occurtime column to datetime objects\n",
    "def convertDateTime(x):\n",
    "    return pd.to_datetime(x,format='%Y-%m-%d %H:%M:%S')\n",
    "\n",
    "data_df['occurtime'] = data_df['occurtime'].apply(lambda x: pd.to_datetime(x,format='%Y-%m-%d %H:%M:%S'))"
   ]
  },
  {
   "cell_type": "markdown",
   "metadata": {},
   "source": [
    "## Data analysis"
   ]
  },
  {
   "cell_type": "markdown",
   "metadata": {},
   "source": [
    "### Helper functions"
   ]
  },
  {
   "cell_type": "code",
   "execution_count": 23,
   "metadata": {
    "collapsed": false
   },
   "outputs": [],
   "source": [
    "# For different equipment (vessels, filter presses, centrifuges), different criteria is needed to pull the correct times\n",
    "def getStartTime_FP2(data):\n",
    "    startTime = data[data['action'].str.contains('FP_PRECOND:1-') &\n",
    "                     data['unit'].str.contains('FP002') &\n",
    "                     data['eventdescr'].str.contains('RUNNING')]['occurtime']\n",
    "\n",
    "    startIndex = startTime.index.min()\n",
    "    return (startIndex, startTime.min())\n",
    "\n",
    "def getEndTime_FP2(data):\n",
    "    endTime = data[data['eventdescr'].str.contains('Do you want to REPEAT the External Rinse?') &\n",
    "                   data['eventdescr'].str.contains('0 phase_boolean') &\n",
    "                   data['unit'].str.contains('FP002')]['occurtime']\n",
    "    endIndex = endTime.index.max()\n",
    "    return (endIndex,endTime.max())"
   ]
  },
  {
   "cell_type": "markdown",
   "metadata": {},
   "source": [
    "### Starting and ending times calculation function"
   ]
  },
  {
   "cell_type": "code",
   "execution_count": 24,
   "metadata": {
    "collapsed": true
   },
   "outputs": [],
   "source": [
    "def getStartEndTimes_FP2(data):\n",
    "    result = []\n",
    "    lotNumber = data['Batchid'].iloc[0]\n",
    "    result = {'BatchID':lotNumber,\n",
    "               'Start Time':'',\n",
    "               'End Time':'',\n",
    "               'Start to End (hrs)':''}\n",
    "    startIndex, startTime = getStartTime_FP2(data)\n",
    "    endIndex, endTime = getEndTime_FP2(data)\n",
    "    \n",
    "    if np.isnan(startIndex) or np.isnan(endIndex):\n",
    "        print 'Start Index is {} and End Index is {} for lot: {}'.format(startIndex, endIndex, lotNumber)\n",
    "        return result\n",
    "    else:\n",
    "        result['Start Time'] = startTime\n",
    "        result['End Time'] = endTime\n",
    "        startToEnd = endTime - startTime\n",
    "        startToEnd = round(startToEnd.days / 24.0 + startToEnd.seconds / 3600.0, 2)\n",
    "        result['Start to End (hrs)'] = startToEnd\n",
    "    \n",
    "        return result"
   ]
  },
  {
   "cell_type": "markdown",
   "metadata": {},
   "source": [
    "### Starting and ending times main function"
   ]
  },
  {
   "cell_type": "code",
   "execution_count": 25,
   "metadata": {
    "collapsed": false
   },
   "outputs": [
    {
     "name": "stdout",
     "output_type": "stream",
     "text": [
      "Start Index is 410148 and End Index is nan for lot: LB1659260\n",
      "Start Index is nan and End Index is nan for lot: LB1659262\n",
      "Start Index is nan and End Index is nan for lot: LB1659263\n",
      "Start Index is nan and End Index is nan for lot: LB1659264\n",
      "Start Index is nan and End Index is nan for lot: LR1659120\n",
      "Start Index is nan and End Index is nan for lot: LR1659261\n",
      "Start Index is nan and End Index is nan for lot: LR1659266\n"
     ]
    }
   ],
   "source": [
    "startAndEndTimesInfo = []\n",
    "for i in range(len(groupList)):\n",
    "    startAndEndTimesInfo.append(getStartEndTimes_FP2(groupedData.get_group(groupList[i])))\n",
    "    \n",
    "startAndEndtimesInfo_df = pd.DataFrame(startAndEndTimesInfo)"
   ]
  },
  {
   "cell_type": "markdown",
   "metadata": {},
   "source": [
    "### Area to check starting and ending times results"
   ]
  },
  {
   "cell_type": "code",
   "execution_count": 26,
   "metadata": {
    "collapsed": false
   },
   "outputs": [
    {
     "data": {
      "text/html": [
       "<div>\n",
       "<table border=\"1\" class=\"dataframe\">\n",
       "  <thead>\n",
       "    <tr style=\"text-align: right;\">\n",
       "      <th></th>\n",
       "      <th>BatchID</th>\n",
       "      <th>End Time</th>\n",
       "      <th>Start Time</th>\n",
       "      <th>Start to End (hrs)</th>\n",
       "    </tr>\n",
       "  </thead>\n",
       "  <tbody>\n",
       "    <tr>\n",
       "      <th>0</th>\n",
       "      <td>LB1659001</td>\n",
       "      <td>2016-01-12 01:10:49</td>\n",
       "      <td>2016-01-11 18:47:00</td>\n",
       "      <td>6.4</td>\n",
       "    </tr>\n",
       "    <tr>\n",
       "      <th>1</th>\n",
       "      <td>LB1659003</td>\n",
       "      <td>2016-01-14 00:56:53</td>\n",
       "      <td>2016-01-13 16:42:40</td>\n",
       "      <td>8.24</td>\n",
       "    </tr>\n",
       "    <tr>\n",
       "      <th>2</th>\n",
       "      <td>LB1659004</td>\n",
       "      <td>2016-01-15 00:18:22</td>\n",
       "      <td>2016-01-14 18:08:39</td>\n",
       "      <td>6.16</td>\n",
       "    </tr>\n",
       "    <tr>\n",
       "      <th>3</th>\n",
       "      <td>LB1659005</td>\n",
       "      <td>2016-01-16 12:32:03</td>\n",
       "      <td>2016-01-16 05:36:24</td>\n",
       "      <td>6.93</td>\n",
       "    </tr>\n",
       "    <tr>\n",
       "      <th>4</th>\n",
       "      <td>LB1659007</td>\n",
       "      <td>2016-01-17 15:10:15</td>\n",
       "      <td>2016-01-17 08:43:07</td>\n",
       "      <td>6.45</td>\n",
       "    </tr>\n",
       "  </tbody>\n",
       "</table>\n",
       "</div>"
      ],
      "text/plain": [
       "     BatchID            End Time          Start Time Start to End (hrs)\n",
       "0  LB1659001 2016-01-12 01:10:49 2016-01-11 18:47:00                6.4\n",
       "1  LB1659003 2016-01-14 00:56:53 2016-01-13 16:42:40               8.24\n",
       "2  LB1659004 2016-01-15 00:18:22 2016-01-14 18:08:39               6.16\n",
       "3  LB1659005 2016-01-16 12:32:03 2016-01-16 05:36:24               6.93\n",
       "4  LB1659007 2016-01-17 15:10:15 2016-01-17 08:43:07               6.45"
      ]
     },
     "execution_count": 26,
     "metadata": {},
     "output_type": "execute_result"
    }
   ],
   "source": [
    "startAndEndtimesInfo_df.head()"
   ]
  },
  {
   "cell_type": "markdown",
   "metadata": {},
   "source": [
    "### Held duration calculation function"
   ]
  },
  {
   "cell_type": "code",
   "execution_count": 27,
   "metadata": {
    "collapsed": false
   },
   "outputs": [],
   "source": [
    "def getHeldDurations_FP2(data):\n",
    "    # Data is a panda dataframe with only data for 1 batchid\n",
    "    # We need to first get the starting index and the ending index because \n",
    "    # we have very specific definitions as to when the process starts and end.\n",
    "    startIndex, startTime = getStartTime_FP2(data)\n",
    "    endIndex, endTime = getEndTime_FP2(data)\n",
    "    \n",
    "    heldFlag = 0 # 0 = first held, 1 = first run\n",
    "    heldDuration = 0.0\n",
    "    holdStartTime = 0\n",
    "    holdEndTime = 0\n",
    "    \n",
    "    lotNumber = data['Batchid'].iloc[0]\n",
    "\n",
    "    results = []\n",
    "    result = {'BatchID':lotNumber,\n",
    "              'Held Start Time':0,\n",
    "              'Held End Time':0,\n",
    "              'Held Duration (hrs)':0.0,\n",
    "              'Action':''} \n",
    "\n",
    "    # For lots that didn't start or end, the index might be Nan.\n",
    "    if np.isnan(startIndex) or np.isnan(endIndex):\n",
    "        heldDuration = 0.0\n",
    "        print 'Start Index is {} and End Index is {} for lot: {}'.format(startIndex, endIndex, lotNumber)\n",
    "        return results\n",
    "    else:\n",
    "        for i in range(startIndex,endIndex+1):\n",
    "            eventDescr = data['eventdescr'][i]\n",
    "            occurTime = data['occurtime'][i]\n",
    "            action = data['action'][i]\n",
    "            unit = data['unit'][i]\n",
    "            \n",
    "            if unit == 'FP002':\n",
    "                # Look for first holding\n",
    "                if heldFlag == 0:\n",
    "                    if 'State Changed:  HELD' in eventDescr:\n",
    "                        holdStartTime = occurTime\n",
    "                        heldFlag = 1 # Set to look for first running\n",
    "\n",
    "                # Now look for first running\n",
    "                elif heldFlag == 1:\n",
    "                    if 'State Changed:  RUNNING' in eventDescr:\n",
    "                        holdEndTime = occurTime\n",
    "                        heldFlag = 0 # Set to look for first holding\n",
    "                        heldTime = (holdEndTime-holdStartTime)\n",
    "                        heldTime = round(heldTime.days/24.0 + heldTime.seconds/3600.0,2)\n",
    "                        result['Held Duration (hrs)'] = heldTime\n",
    "                        result['Held Start Time'] = holdStartTime\n",
    "                        result['Held End Time'] = holdEndTime\n",
    "                        result['Action'] = action\n",
    "                        results.append(copy.deepcopy(result))\n",
    "\n",
    "    return results"
   ]
  },
  {
   "cell_type": "markdown",
   "metadata": {},
   "source": [
    "### Held duration main function"
   ]
  },
  {
   "cell_type": "code",
   "execution_count": 28,
   "metadata": {
    "collapsed": false,
    "scrolled": true
   },
   "outputs": [
    {
     "name": "stdout",
     "output_type": "stream",
     "text": [
      "Start Index is 410148 and End Index is nan for lot: LB1659260\n",
      "Start Index is nan and End Index is nan for lot: LB1659262\n",
      "Start Index is nan and End Index is nan for lot: LB1659263\n",
      "Start Index is nan and End Index is nan for lot: LB1659264\n",
      "Start Index is nan and End Index is nan for lot: LR1659120\n",
      "Start Index is nan and End Index is nan for lot: LR1659261\n",
      "Start Index is nan and End Index is nan for lot: LR1659266\n"
     ]
    }
   ],
   "source": [
    "# Main code to get Held durations\n",
    "heldDurationInfo = []\n",
    "heldDurationInfo_df = pd.DataFrame()\n",
    "\n",
    "for i in range(len(groupList)):\n",
    "    temp = getHeldDurations_FP2(groupedData.get_group(groupList[i]))\n",
    "    if len(temp) > 0:\n",
    "        for j in temp:\n",
    "            heldDurationInfo.append(j)\n",
    "\n",
    "heldDurationInfo_df = pd.DataFrame(heldDurationInfo)"
   ]
  },
  {
   "cell_type": "markdown",
   "metadata": {},
   "source": [
    "### Area to check held duration results"
   ]
  },
  {
   "cell_type": "code",
   "execution_count": 29,
   "metadata": {
    "collapsed": false
   },
   "outputs": [
    {
     "data": {
      "text/html": [
       "<div>\n",
       "<table border=\"1\" class=\"dataframe\">\n",
       "  <thead>\n",
       "    <tr style=\"text-align: right;\">\n",
       "      <th></th>\n",
       "      <th>Action</th>\n",
       "      <th>BatchID</th>\n",
       "      <th>Held Duration (hrs)</th>\n",
       "      <th>Held End Time</th>\n",
       "      <th>Held Start Time</th>\n",
       "    </tr>\n",
       "  </thead>\n",
       "  <tbody>\n",
       "    <tr>\n",
       "      <th>0</th>\n",
       "      <td>\\\\FR_V_NG\\FP002_UP:1-1\\FP_FRIV1_OP:1-1\\FP_PRECOND:1-1\\</td>\n",
       "      <td>LB1659001</td>\n",
       "      <td>0.17</td>\n",
       "      <td>2016-01-11 19:15:19</td>\n",
       "      <td>2016-01-11 19:05:23</td>\n",
       "    </tr>\n",
       "    <tr>\n",
       "      <th>1</th>\n",
       "      <td>\\\\FR_V_NG\\FP002_UP:1-1\\FP_FRIV1_OP:1-1\\FP_PRECOND:1-1\\</td>\n",
       "      <td>LB1659052</td>\n",
       "      <td>0.04</td>\n",
       "      <td>2016-02-27 20:30:06</td>\n",
       "      <td>2016-02-27 20:27:24</td>\n",
       "    </tr>\n",
       "    <tr>\n",
       "      <th>2</th>\n",
       "      <td>\\\\FR_V_NG\\FP002_UP:1-1\\FP_FRIV1_OP:1-1\\FP_POST_WASH:1-1\\</td>\n",
       "      <td>LB1659074</td>\n",
       "      <td>0.03</td>\n",
       "      <td>2016-03-27 03:38:44</td>\n",
       "      <td>2016-03-27 03:36:44</td>\n",
       "    </tr>\n",
       "    <tr>\n",
       "      <th>3</th>\n",
       "      <td>\\\\FR_V_NG\\FP002_UP:1-1\\FP_FRIV1_OP:1-1\\FP_POST_WASH:1-1\\</td>\n",
       "      <td>LB1659077</td>\n",
       "      <td>0.11</td>\n",
       "      <td>2016-03-15 23:36:56</td>\n",
       "      <td>2016-03-15 23:30:28</td>\n",
       "    </tr>\n",
       "    <tr>\n",
       "      <th>4</th>\n",
       "      <td>\\\\FR_V_NG\\FP002_UP:1-1\\\\\\</td>\n",
       "      <td>LB1659092</td>\n",
       "      <td>0.24</td>\n",
       "      <td>2016-03-30 10:18:08</td>\n",
       "      <td>2016-03-30 10:03:52</td>\n",
       "    </tr>\n",
       "  </tbody>\n",
       "</table>\n",
       "</div>"
      ],
      "text/plain": [
       "                                                     Action    BatchID  \\\n",
       "0    \\\\FR_V_NG\\FP002_UP:1-1\\FP_FRIV1_OP:1-1\\FP_PRECOND:1-1\\  LB1659001   \n",
       "1    \\\\FR_V_NG\\FP002_UP:1-1\\FP_FRIV1_OP:1-1\\FP_PRECOND:1-1\\  LB1659052   \n",
       "2  \\\\FR_V_NG\\FP002_UP:1-1\\FP_FRIV1_OP:1-1\\FP_POST_WASH:1-1\\  LB1659074   \n",
       "3  \\\\FR_V_NG\\FP002_UP:1-1\\FP_FRIV1_OP:1-1\\FP_POST_WASH:1-1\\  LB1659077   \n",
       "4                                 \\\\FR_V_NG\\FP002_UP:1-1\\\\\\  LB1659092   \n",
       "\n",
       "   Held Duration (hrs)       Held End Time     Held Start Time  \n",
       "0                 0.17 2016-01-11 19:15:19 2016-01-11 19:05:23  \n",
       "1                 0.04 2016-02-27 20:30:06 2016-02-27 20:27:24  \n",
       "2                 0.03 2016-03-27 03:38:44 2016-03-27 03:36:44  \n",
       "3                 0.11 2016-03-15 23:36:56 2016-03-15 23:30:28  \n",
       "4                 0.24 2016-03-30 10:18:08 2016-03-30 10:03:52  "
      ]
     },
     "execution_count": 29,
     "metadata": {},
     "output_type": "execute_result"
    }
   ],
   "source": [
    "heldDurationInfo_df.head()"
   ]
  },
  {
   "cell_type": "markdown",
   "metadata": {},
   "source": [
    "### Failed duration calculation function"
   ]
  },
  {
   "cell_type": "code",
   "execution_count": 30,
   "metadata": {
    "collapsed": false
   },
   "outputs": [],
   "source": [
    "def getFailedDurations_FP2(df):\n",
    "    # We are getting the failed duration per lot \n",
    "    # We need to filter by the starting and ending index too \n",
    "    startIndex, startTime = getStartTime_FP2(df)\n",
    "    endIndex, endTime = getEndTime_FP2(df)\n",
    "\n",
    "    failStartTime = 0\n",
    "    failEndtime = 0\n",
    "    failFlag = 0 # 0 = look for a fail message, 1 = look for the State Changed: Running\n",
    "\n",
    "    lotNumber = df['Batchid'].iloc[0]\n",
    "    # We are returning this dictionary\n",
    "    results = []\n",
    "    result = {'BatchID':lotNumber,\n",
    "              'Fail Message':'',\n",
    "              'Fail Start Time':'',\n",
    "              'Fail End Time':'',\n",
    "              'Fail Duration (hrs)':''} \n",
    "    \n",
    "    if np.isnan(startIndex) or np.isnan(endIndex):\n",
    "        #we still want to return a list because indexing won't work right outside of this function\n",
    "        print 'Start Index is {} and End Index is {} for lot: {}'.format(startIndex, endIndex, lotNumber)\n",
    "        results.append(copy.deepcopy(result)) \n",
    "        return results\n",
    "    else:\n",
    "        for i in range(startIndex,endIndex+1):\n",
    "\n",
    "            eventDescr = df['eventdescr'][i]\n",
    "            unit = df['unit'][i]\n",
    "            occurTime = df['occurtime'][i]\n",
    "\n",
    "            if pd.isnull(unit):\n",
    "                pass\n",
    "            elif 'FP002' in unit:\n",
    "                if failFlag == 0:\n",
    "                    if ('FAIL' in eventDescr):\n",
    "                        #print \"{}, unit is: {}, time is: {}\".format(eventDescr,unit,occurTime)\n",
    "                        failStartTime = occurTime\n",
    "                        result['Fail Message'] = eventDescr\n",
    "                        result['Fail Start Time'] = occurTime\n",
    "                        failFlag = 1\n",
    "\n",
    "                else:\n",
    "                    if ('RUNNING') in eventDescr:\n",
    "                        #print \"End of fail time is: {}\".format(occurTime)\n",
    "                        failEndtime = occurTime\n",
    "                        temp = failEndtime-failStartTime\n",
    "                        result['Fail Duration (hrs)'] = round(temp.days*24.0 +temp.seconds/3600.0,2)\n",
    "                        #result['Duration'] = (failEndtime-failStartTime)\n",
    "                        result['Fail End Time'] = occurTime\n",
    "                        failFlag = 0\n",
    "                        results.append(copy.deepcopy(result))\n",
    "        return results"
   ]
  },
  {
   "cell_type": "markdown",
   "metadata": {},
   "source": [
    "### Failed duration main function"
   ]
  },
  {
   "cell_type": "code",
   "execution_count": 31,
   "metadata": {
    "collapsed": false,
    "scrolled": true
   },
   "outputs": [
    {
     "name": "stdout",
     "output_type": "stream",
     "text": [
      "Start Index is 410148 and End Index is nan for lot: LB1659260\n",
      "Start Index is nan and End Index is nan for lot: LB1659262\n",
      "Start Index is nan and End Index is nan for lot: LB1659263\n",
      "Start Index is nan and End Index is nan for lot: LB1659264\n",
      "Start Index is nan and End Index is nan for lot: LR1659120\n",
      "Start Index is nan and End Index is nan for lot: LR1659261\n",
      "Start Index is nan and End Index is nan for lot: LR1659266\n"
     ]
    }
   ],
   "source": [
    "# Main code to get failed durations, and need to parse out the returned results if it contains more than 1 item\n",
    "failDurationInfo = []\n",
    "failDurationInfo_df = pd.DataFrame()\n",
    "for i in range(len(groupList)):\n",
    "    temp = getFailedDurations_FP2(groupedData.get_group(groupList[i]))\n",
    "    if len(temp) > 0: # To handle lots that don't have any fail messages.\n",
    "        for i in range(len(temp)):\n",
    "            failDurationInfo.append(temp[i])\n",
    "\n",
    "            \n",
    "failDurationInfo_df = pd.DataFrame(failDurationInfo)"
   ]
  },
  {
   "cell_type": "markdown",
   "metadata": {},
   "source": [
    "### Area to check failed duration results"
   ]
  },
  {
   "cell_type": "code",
   "execution_count": null,
   "metadata": {
    "collapsed": false
   },
   "outputs": [],
   "source": []
  },
  {
   "cell_type": "markdown",
   "metadata": {},
   "source": [
    "### Prompt duration calculation function"
   ]
  },
  {
   "cell_type": "code",
   "execution_count": 32,
   "metadata": {
    "collapsed": false,
    "scrolled": true
   },
   "outputs": [],
   "source": [
    "def getPromptDurations_FP2(df):\n",
    "    # We get the duration between prompt and prompt responses. \n",
    "    # We use a threshold on how long a prompt duration needs to be before keeping the record.\n",
    "    durationThreshold = 30 # value in minutes\n",
    "    \n",
    "    startIndex, startTime = getStartTime_FP2(df)\n",
    "    endIndex, endTime = getEndTime_FP2(df)\n",
    "    lotNumber = df['Batchid'].iloc[0]\n",
    "    results = []\n",
    "    result = {'BatchID':lotNumber,\n",
    "               'Prompt':'',\n",
    "               'Prompt Duration (hrs)':''}\n",
    "    matchPattern = re.compile(r'^.*?(?=\\s*\\()')\n",
    "    \n",
    "    ignoreThisEventDescr = 'Select YES to confirm no leaks found. Continue check for leaks until Filtration.'\n",
    "    \n",
    "    promptList = []\n",
    "    \n",
    "    if np.isnan(startIndex) or np.isnan(endIndex):\n",
    "        print 'Start Index is {} and End Index is {} for lot: {}'.format(startIndex, endIndex, lotNumber)\n",
    "        return results\n",
    "    else:\n",
    "        for i in range(startIndex,endIndex+1):\n",
    "            \n",
    "            eventDescr = df['eventdescr'][i]\n",
    "            unit = df['unit'][i]\n",
    "            occurTime = df['occurtime'][i]\n",
    "            eventType = df['eventtype'][i]\n",
    "            if unit =='FP002' and ignoreThisEventDescr not in eventDescr:\n",
    "                # Check if it is operator prompt or response and add to corresponding list\n",
    "                if eventType == 'Operator Prompt':\n",
    "                    matchedEventDescr = matchPattern.match(eventDescr).group(0)\n",
    "                    if matchedEventDescr != 'Enter Reason for Resume.':\n",
    "                        promptList.append((matchedEventDescr,occurTime))\n",
    "\n",
    "                elif eventType == 'Prompt Response':\n",
    "                    matchedEventDescr = matchPattern.match(eventDescr).group(0)\n",
    "\n",
    "                    for prompt,promptTime in promptList:\n",
    "\n",
    "                        if matchedEventDescr == prompt:\n",
    "                            result['Prompt'] = prompt\n",
    "                            tempDuration = occurTime - promptTime\n",
    "                            result['Prompt Duration (hrs)'] = round(tempDuration.days/24.0 + \n",
    "                                                                    tempDuration.seconds/3600.0,3)\n",
    "                            results.append(copy.deepcopy(result))\n",
    "                            # Have to remove from promptList to prevent duplicates\n",
    "                            promptList.remove((prompt,promptTime)) \n",
    "   \n",
    "        # Tests \n",
    "        if len(promptList)!=1:\n",
    "            print 'Lot number is {}, promptList length is {}'.format(lotNumber,promptList)\n",
    "\n",
    "        return results"
   ]
  },
  {
   "cell_type": "markdown",
   "metadata": {},
   "source": [
    "### Prompt duration main function"
   ]
  },
  {
   "cell_type": "code",
   "execution_count": 33,
   "metadata": {
    "collapsed": false,
    "scrolled": true
   },
   "outputs": [
    {
     "name": "stdout",
     "output_type": "stream",
     "text": [
      "Lot number is LB1659120, promptList length is [(u'Was Removal and Cleaning of Filter Press Gaskets Performed ?', Timestamp('2016-04-29 04:50:02')), (u'Do you want to REPEAT the External Rinse?', Timestamp('2016-04-29 05:39:32'))]\n",
      "Lot number is LB1659131, promptList length is [(u'Was Removal and Cleaning of Filter Press Gaskets Performed ?', Timestamp('2016-05-10 04:45:01')), (u'Do you want to REPEAT the External Rinse?', Timestamp('2016-05-10 05:27:44'))]\n",
      "Lot number is LB1659154, promptList length is [(u'Disengage E-Stop. Select YES when complete.', Timestamp('2016-05-27 03:36:58')), (u'Do you want to REPEAT the External Rinse?', Timestamp('2016-05-27 03:49:43'))]\n",
      "Lot number is LB1659159, promptList length is [(u'Select YES when Plates/frames are positioned for Exterior Rinse', Timestamp('2016-05-30 00:34:25')), (u'Do you want to REPEAT the External Rinse?', Timestamp('2016-05-30 00:50:02'))]\n",
      "Lot number is LB1659165, promptList length is [(u'Select YES when Plates/frames are positioned for Exterior Rinse', Timestamp('2016-06-03 09:16:09')), (u'Do you want to REPEAT the External Rinse?', Timestamp('2016-06-03 09:33:08'))]\n",
      "Lot number is LB1659178, promptList length is [(u'Select YES when Plates/frames are positioned for Exterior Rinse', Timestamp('2016-06-26 08:06:13')), (u'Do you want to REPEAT the External Rinse?', Timestamp('2016-06-26 08:22:43'))]\n",
      "Lot number is LB1659221, promptList length is [(u'Disengage E-Stop. Select YES when complete.', Timestamp('2016-07-18 23:25:50')), (u'Do you want to REPEAT the External Rinse?', Timestamp('2016-07-18 23:38:14'))]\n",
      "Lot number is LB1659256, promptList length is [(u'Disengage E-Stop. Select YES when complete.', Timestamp('2016-08-14 18:58:50')), (u'Do you want to REPEAT the External Rinse?', Timestamp('2016-08-14 19:10:31'))]\n",
      "Lot number is LB1659257, promptList length is [(u'Disengage E-Stop. Select YES when complete.', Timestamp('2016-08-15 09:36:36')), (u'Do you want to REPEAT the External Rinse?', Timestamp('2016-08-15 09:49:23'))]\n",
      "Start Index is 410148 and End Index is nan for lot: LB1659260\n",
      "Start Index is nan and End Index is nan for lot: LB1659262\n",
      "Start Index is nan and End Index is nan for lot: LB1659263\n",
      "Start Index is nan and End Index is nan for lot: LB1659264\n",
      "Lot number is LR1659014, promptList length is [(u'Select YES when Plates/frames are positioned for Exterior Rinse', Timestamp('2016-01-22 17:33:42')), (u'Do you want to REPEAT the External Rinse?', Timestamp('2016-01-22 17:47:53'))]\n",
      "Lot number is LR1659033, promptList length is [(u'Select YES when Harvest is Complete', Timestamp('2016-02-08 10:15:11')), (u'Do you want to REPEAT the External Rinse?', Timestamp('2016-02-08 10:31:06'))]\n",
      "Lot number is LR1659073, promptList length is [(u'Disengage E-Stop. Select YES when complete.', Timestamp('2016-03-21 23:33:14')), (u'Do you want to REPEAT the External Rinse?', Timestamp('2016-03-21 23:46:05'))]\n",
      "Lot number is LR1659091, promptList length is [(u'Verify there are no personel on the platform. Select YES when verified.', Timestamp('2016-04-09 17:59:28')), (u'Do you want to REPEAT the External Rinse?', Timestamp('2016-04-09 18:12:33'))]\n",
      "Start Index is nan and End Index is nan for lot: LR1659120\n",
      "Lot number is LR1659168, promptList length is [(u'Do you wish to reset totalizer and start from the beginning?', Timestamp('2016-06-06 11:00:01')), (u'Do you want to REPEAT the External Rinse?', Timestamp('2016-06-06 17:50:50'))]\n",
      "Lot number is LR1659181, promptList length is [(u'Do you want to REPEAT the External Rinse?', Timestamp('2016-06-16 14:19:23')), (u'Do you want to REPEAT the External Rinse?', Timestamp('2016-06-16 14:27:48'))]\n",
      "Lot number is LR1659191, promptList length is [(u'Engage E-Stop. Select YES when complete.', Timestamp('2016-06-22 14:51:27')), (u'Do you want to REPEAT the External Rinse?', Timestamp('2016-06-23 08:28:00'))]\n",
      "Lot number is LR1659223, promptList length is [(u'Select YES when Harvest is Complete', Timestamp('2016-07-19 14:44:49')), (u'Do you want to REPEAT the External Rinse?', Timestamp('2016-07-19 16:12:01'))]\n",
      "Lot number is LR1659251, promptList length is [(u'Do you want to REPEAT the External Rinse?', Timestamp('2016-08-10 21:39:06')), (u'Do you want to REPEAT the External Rinse?', Timestamp('2016-08-10 22:00:13'))]\n",
      "Start Index is nan and End Index is nan for lot: LR1659261\n",
      "Start Index is nan and End Index is nan for lot: LR1659266\n"
     ]
    }
   ],
   "source": [
    "promptDurationInfo = []\n",
    "\n",
    "for i in groupList:\n",
    "    # temp will be a list of dictionaries\n",
    "    temp = getPromptDurations_FP2(groupedData.get_group(i))\n",
    "    if len(temp) > 0:\n",
    "        for j in temp:\n",
    "            promptDurationInfo.append(j)\n",
    "\n",
    "promptDurationInfo_df = pd.DataFrame(promptDurationInfo)"
   ]
  },
  {
   "cell_type": "markdown",
   "metadata": {},
   "source": [
    "### Area to check prompt duration results"
   ]
  },
  {
   "cell_type": "code",
   "execution_count": 34,
   "metadata": {
    "collapsed": false
   },
   "outputs": [
    {
     "data": {
      "text/plain": [
       "3314"
      ]
     },
     "execution_count": 34,
     "metadata": {},
     "output_type": "execute_result"
    }
   ],
   "source": [
    "len(promptDurationInfo_df)"
   ]
  },
  {
   "cell_type": "markdown",
   "metadata": {},
   "source": [
    "## Aggregating durations"
   ]
  },
  {
   "cell_type": "code",
   "execution_count": 35,
   "metadata": {
    "collapsed": false
   },
   "outputs": [],
   "source": [
    "overall_df = startAndEndtimesInfo_df\n",
    "heldAgg = heldDurationInfo_df.groupby('BatchID')\n",
    "heldAgg = heldAgg.sum()\n",
    "heldAgg.reset_index(level=0,inplace=True)\n",
    "\n",
    "failAgg = failDurationInfo_df.groupby('BatchID')\n",
    "failAgg = failAgg.sum()\n",
    "failAgg.reset_index(level=0,inplace=True)\n",
    "\n",
    "promptAgg = promptDurationInfo_df.groupby('BatchID')\n",
    "promptAgg = promptAgg.sum()\n",
    "promptAgg.reset_index(level=0,inplace=True)\n",
    "\n",
    "overall_df = overall_df.merge(heldAgg,how='left',on='BatchID')\n",
    "overall_df = overall_df.merge(failAgg,how='left',on='BatchID')\n",
    "overall_df = overall_df.merge(promptAgg,how='left',on='BatchID')\n",
    "overall_df.drop('Fail Message', axis=1, inplace = True)\n",
    "overall_df['Start to End (hrs)'] = pd.to_numeric(overall_df['Start to End (hrs)'])\n",
    "overall_df['Fail Duration (hrs)'] = pd.to_numeric(overall_df['Fail Duration (hrs)'])"
   ]
  },
  {
   "cell_type": "markdown",
   "metadata": {},
   "source": [
    "## Sandbox area to check analysis results"
   ]
  },
  {
   "cell_type": "code",
   "execution_count": 109,
   "metadata": {
    "collapsed": false
   },
   "outputs": [
    {
     "name": "stdout",
     "output_type": "stream",
     "text": [
      "count    37.000000\n",
      "mean      0.193514\n",
      "std       0.499818\n",
      "min       0.020000\n",
      "25%       0.040000\n",
      "50%       0.070000\n",
      "75%       0.110000\n",
      "max       2.940000\n",
      "Name: Fail Duration (hrs), dtype: float64\n",
      "7.16\n",
      "\n",
      "count    74.000000\n",
      "mean      0.264595\n",
      "std       0.470232\n",
      "min       0.020000\n",
      "25%       0.060000\n",
      "50%       0.090000\n",
      "75%       0.197500\n",
      "max       2.940000\n",
      "Name: Held Duration (hrs), dtype: float64\n",
      "19.58\n",
      "\n",
      "count    3314.000000\n",
      "mean        0.089568\n",
      "std         0.452801\n",
      "min         0.001000\n",
      "25%         0.003000\n",
      "50%         0.005000\n",
      "75%         0.014000\n",
      "max        16.813000\n",
      "Name: Prompt Duration (hrs), dtype: float64\n",
      "296.827\n"
     ]
    }
   ],
   "source": [
    "mask = failDurationInfo_df['Fail Duration (hrs)'] != ''\n",
    "print failDurationInfo_df[mask]['Fail Duration (hrs)'].apply(float).describe()\n",
    "print failDurationInfo_df[mask]['Fail Duration (hrs)'].apply(float).sum()\n",
    "print ''\n",
    "print heldDurationInfo_df['Held Duration (hrs)'].describe()\n",
    "print heldDurationInfo_df['Held Duration (hrs)'].sum()\n",
    "print ''\n",
    "print promptDurationInfo_df['Prompt Duration (hrs)'].describe()\n",
    "print promptDurationInfo_df['Prompt Duration (hrs)'].sum()"
   ]
  },
  {
   "cell_type": "code",
   "execution_count": 36,
   "metadata": {
    "collapsed": false
   },
   "outputs": [
    {
     "data": {
      "text/plain": [
       "<seaborn.axisgrid.JointGrid at 0x41f1cfd0>"
      ]
     },
     "execution_count": 36,
     "metadata": {},
     "output_type": "execute_result"
    },
    {
     "data": {
      "image/png": "[encoded data removed]",
      "text/plain": [
       "<matplotlib.figure.Figure at 0xb7bd550>"
      ]
     },
     "metadata": {},
     "output_type": "display_data"
    }
   ],
   "source": [
    "sns.jointplot(data= overall_df.dropna(subset=['Prompt Duration (hrs)']),\n",
    "              x= 'Start to End (hrs)',\n",
    "              y= 'Prompt Duration (hrs)',\n",
    "              size = 7)"
   ]
  },
  {
   "cell_type": "code",
   "execution_count": 37,
   "metadata": {
    "collapsed": false
   },
   "outputs": [
    {
     "data": {
      "text/plain": [
       "<seaborn.axisgrid.PairGrid at 0xaf71f98>"
      ]
     },
     "execution_count": 37,
     "metadata": {},
     "output_type": "execute_result"
    },
    {
     "data": {
      "image/png": "[encoded data removed]",
      "text/plain": [
       "<matplotlib.figure.Figure at 0x4629d9e8>"
      ]
     },
     "metadata": {},
     "output_type": "display_data"
    }
   ],
   "source": [
    "sns.pairplot(data=overall_df.dropna(),\n",
    "             vars=['Start to End (hrs)',\n",
    "                   'Held Duration (hrs)',\n",
    "                   'Fail Duration (hrs)',\n",
    "                   'Prompt Duration (hrs)'],size=5)"
   ]
  },
  {
   "cell_type": "markdown",
   "metadata": {},
   "source": [
    "## File output"
   ]
  },
  {
   "cell_type": "code",
   "execution_count": 38,
   "metadata": {
    "collapsed": false
   },
   "outputs": [],
   "source": [
    "writer = pd.ExcelWriter('FP2 held and failed durations.xlsx')\n",
    "overall_df.to_excel(writer,'Overall Times', columns = ['BatchID',\n",
    "                                                       'Start Time',\n",
    "                                                       'End Time',\n",
    "                                                       'Start to End (hrs)',\n",
    "                                                       'Held Duration (hrs)',\n",
    "                                                       'Fail Duration (hrs)',\n",
    "                                                       'Prompt Duration (hrs)'])\n",
    "\n",
    "heldDurationInfo_df.to_excel(writer,'Held Durations', columns = ['BatchID',\n",
    "                                                                 'Action',\n",
    "                                                                 'Held Start Time',\n",
    "                                                                 'Held End Time',\n",
    "                                                                 'Held Duration (hrs)'])\n",
    "\n",
    "failDurationInfo_df.to_excel(writer,'Failed Durations',columns = ['BatchID',\n",
    "                                                                  'Fail Message',\n",
    "                                                                  'Fail Start Time',\n",
    "                                                                  'Fail End Time',\n",
    "                                                                  'Fail Duration (hrs)'])\n",
    "\n",
    "promptDurationInfo_df.to_excel(writer,'Prompt Durations',columns = ['BatchID',\n",
    "                                                                    'Prompt',\n",
    "                                                                    'Prompt Duration (hrs)'])\n",
    "writer.save()"
   ]
  },
  {
   "cell_type": "code",
   "execution_count": null,
   "metadata": {
    "collapsed": true
   },
   "outputs": [],
   "source": []
  }
 ],
 "metadata": {
  "kernelspec": {
   "display_name": "Python 2",
   "language": "python",
   "name": "python2"
  },
  "language_info": {
   "codemirror_mode": {
    "name": "ipython",
    "version": 2
   },
   "file_extension": ".py",
   "mimetype": "text/x-python",
   "name": "python",
   "nbconvert_exporter": "python",
   "pygments_lexer": "ipython2",
   "version": "2.7.11"
  }
 },
 "nbformat": 4,
 "nbformat_minor": 0
}
