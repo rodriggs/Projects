{
 "cells": [
  {
   "cell_type": "markdown",
   "metadata": {},
   "source": [
    "# Predicting Drug Yield - Data Cleaning and Exploratory Data Analysis\n",
    "This notebook cleaned the data and did some initial exploratory data analysis. This notebook works in conjunction with the other biologics modeling notebook."
   ]
  },
  {
   "cell_type": "code",
   "execution_count": 1,
   "metadata": {
    "collapsed": true
   },
   "outputs": [],
   "source": [
    "import pandas as pd\n",
    "import numpy as np\n",
    "from collections import Counter\n",
    "import matplotlib.pyplot as plt\n",
    "import seaborn as sns\n",
    "import copy\n",
    "%matplotlib inline\n",
    "sns.set_context('notebook')\n",
    "\n",
    "from sklearn.linear_model import LinearRegression\n",
    "from sklearn.linear_model import LogisticRegression\n",
    "\n",
    "from sklearn.neighbors import KNeighborsClassifier\n",
    "from sklearn.ensemble import RandomForestClassifier\n",
    "\n",
    "from sklearn.cluster import KMeans\n",
    "from sklearn.cluster import DBSCAN\n",
    "\n",
    "import scipy.stats as spStats"
   ]
  },
  {
   "cell_type": "code",
   "execution_count": 2,
   "metadata": {
    "collapsed": true
   },
   "outputs": [],
   "source": [
    "raw_df = pd.read_excel('Raw data.xlsx', sheetname='Study Data')"
   ]
  },
  {
   "cell_type": "markdown",
   "metadata": {},
   "source": [
    "# Data Cleaning and Wrangling\n",
    "Original dataframe is called **raw_df**. \n",
    "\n",
    "First, let's clean up all missing values, transform anything needed, add dummy variables, and change the name to **processed_df**.\n",
    "\n",
    "After that, start dropping off the outliers."
   ]
  },
  {
   "cell_type": "code",
   "execution_count": 3,
   "metadata": {
    "collapsed": false
   },
   "outputs": [
    {
     "data": {
      "text/plain": [
       "Month                        0\n",
       "Year                         0\n",
       "Week No.                     0\n",
       "Date                         0\n",
       "Lot Number                   0\n",
       "Cut Lot Number               0\n",
       "Bag/Bottle                   3\n",
       "PCA (%)                      8\n",
       "PPT G (kg)                   0\n",
       "CPP (kg)                     0\n",
       "g PPT G/kg CPP               0\n",
       "Total Protein (g/dL)         0\n",
       "CUNO Filt (kg)               0\n",
       "VP (L)                       0\n",
       "Diluted CPP (kg)             1\n",
       "Dilution (kg)                0\n",
       "CPP IgG before Fr1          14\n",
       "Cuno IgG FP6                20\n",
       "Diluted % Efficiency        15\n",
       "CPP (L)                      0\n",
       "G Conv (g IgG/Kg PPT G)      0\n",
       "Yield CP (WT)                0\n",
       "Yield_Label                  0\n",
       "Yield_Label_2                0\n",
       "Yield VP (WT)                1\n",
       "I - Final pH                 4\n",
       "I - Aging                   93\n",
       "II+III After Alc pH          1\n",
       "II+III After Alc Titer       1\n",
       "II+III - Final pH            1\n",
       "II+III - Aging              97\n",
       "II+III Paste Wt              0\n",
       "Buffer 1 Amt                 2\n",
       "Extraction Ratio             0\n",
       "Extract - Final pH           0\n",
       "Extract - Aging             99\n",
       "G - Init pH                  7\n",
       "G - titer                    6\n",
       "G - Final pH                 5\n",
       "G - Aging                  102\n",
       "TD_CT                        9\n",
       "FrI_PPT_CT                   9\n",
       "FrII_PPT_CT                  9\n",
       "V13_Sep_CT                   9\n",
       "Ext_PPT_CT                  10\n",
       "G_PPT_CT                     9\n",
       "dtype: int64"
      ]
     },
     "execution_count": 3,
     "metadata": {},
     "output_type": "execute_result"
    }
   ],
   "source": [
    "raw_df.isnull().sum()"
   ]
  },
  {
   "cell_type": "code",
   "execution_count": 4,
   "metadata": {
    "collapsed": false
   },
   "outputs": [
    {
     "data": {
      "text/plain": [
       "Counter({2014: 112, 2015: 226, 2016: 111})"
      ]
     },
     "execution_count": 4,
     "metadata": {},
     "output_type": "execute_result"
    }
   ],
   "source": [
    "Counter(raw_df.dropna()['Year'])"
   ]
  },
  {
   "cell_type": "code",
   "execution_count": 5,
   "metadata": {
    "collapsed": false
   },
   "outputs": [
    {
     "name": "stdout",
     "output_type": "stream",
     "text": [
      "Length of raw data: 599\n",
      "Observation count per year for raw_df: Counter({2015: 260, 2014: 215, 2016: 124})\n",
      "Observation count per bag/bottle for raw_df: Counter({u'Bags': 336, u'Bottle': 204, u'Bags/NMF': 56, nan: 3})\n",
      "\n",
      "Length of raw_df.dropna(): 449\n",
      "Observation count per year for raw_df.dropna(): Counter({2015: 226, 2014: 112, 2016: 111})\n",
      "Observation count per bag/bottle for raw_df.dropna(): Counter({u'Bags': 252, u'Bottle': 151, u'Bags/NMF': 46})\n"
     ]
    }
   ],
   "source": [
    "print 'Length of raw data:',len(raw_df)\n",
    "print 'Observation count per year for raw_df:',Counter(raw_df['Year'])\n",
    "print 'Observation count per bag/bottle for raw_df:',Counter(raw_df['Bag/Bottle'])\n",
    "print ''\n",
    "print 'Length of raw_df.dropna():',len(raw_df.dropna())\n",
    "print 'Observation count per year for raw_df.dropna():',Counter(raw_df.dropna()['Year'])\n",
    "print 'Observation count per bag/bottle for raw_df.dropna():',Counter(raw_df.dropna()['Bag/Bottle'])"
   ]
  },
  {
   "cell_type": "markdown",
   "metadata": {},
   "source": [
    "If I do an overall dropna(), I am losing about 100 observations for year 2014 and around 10% for 2015 and 2016. I feel comfortable with this data loss so I will proceed with an overall dropna()."
   ]
  },
  {
   "cell_type": "code",
   "execution_count": 6,
   "metadata": {
    "collapsed": false
   },
   "outputs": [
    {
     "data": {
      "text/html": [
       "<div>\n",
       "<table border=\"1\" class=\"dataframe\">\n",
       "  <thead>\n",
       "    <tr style=\"text-align: right;\">\n",
       "      <th></th>\n",
       "      <th>Month</th>\n",
       "      <th>Year</th>\n",
       "      <th>Week No.</th>\n",
       "      <th>Date</th>\n",
       "      <th>Lot Number</th>\n",
       "      <th>Cut Lot Number</th>\n",
       "      <th>Bag/Bottle</th>\n",
       "      <th>PCA (%)</th>\n",
       "      <th>PPT G (kg)</th>\n",
       "      <th>CPP (kg)</th>\n",
       "      <th>...</th>\n",
       "      <th>G - Init pH</th>\n",
       "      <th>G - titer</th>\n",
       "      <th>G - Final pH</th>\n",
       "      <th>G - Aging</th>\n",
       "      <th>TD_CT</th>\n",
       "      <th>FrI_PPT_CT</th>\n",
       "      <th>FrII_PPT_CT</th>\n",
       "      <th>V13_Sep_CT</th>\n",
       "      <th>Ext_PPT_CT</th>\n",
       "      <th>G_PPT_CT</th>\n",
       "    </tr>\n",
       "  </thead>\n",
       "  <tbody>\n",
       "    <tr>\n",
       "      <th>0</th>\n",
       "      <td>1</td>\n",
       "      <td>2014</td>\n",
       "      <td>2</td>\n",
       "      <td>2014-01-06</td>\n",
       "      <td>LB1499004</td>\n",
       "      <td>LB149004</td>\n",
       "      <td>Bags</td>\n",
       "      <td>90.1</td>\n",
       "      <td>112.3</td>\n",
       "      <td>7479.7</td>\n",
       "      <td>...</td>\n",
       "      <td>6.54</td>\n",
       "      <td>4.48</td>\n",
       "      <td>6.98</td>\n",
       "      <td>0.662847</td>\n",
       "      <td>8.692500</td>\n",
       "      <td>7.024167</td>\n",
       "      <td>14.136389</td>\n",
       "      <td>10.084722</td>\n",
       "      <td>-0.001111</td>\n",
       "      <td>39.180278</td>\n",
       "    </tr>\n",
       "    <tr>\n",
       "      <th>1</th>\n",
       "      <td>1</td>\n",
       "      <td>2014</td>\n",
       "      <td>2</td>\n",
       "      <td>2014-01-08</td>\n",
       "      <td>LB1499007</td>\n",
       "      <td>LB149007</td>\n",
       "      <td>Bags</td>\n",
       "      <td>91.1</td>\n",
       "      <td>111.3</td>\n",
       "      <td>7477.7</td>\n",
       "      <td>...</td>\n",
       "      <td>6.41</td>\n",
       "      <td>4.77</td>\n",
       "      <td>6.83</td>\n",
       "      <td>0.362558</td>\n",
       "      <td>6.581667</td>\n",
       "      <td>12.799167</td>\n",
       "      <td>17.747778</td>\n",
       "      <td>7.583889</td>\n",
       "      <td>-0.001111</td>\n",
       "      <td>37.615833</td>\n",
       "    </tr>\n",
       "    <tr>\n",
       "      <th>2</th>\n",
       "      <td>1</td>\n",
       "      <td>2014</td>\n",
       "      <td>2</td>\n",
       "      <td>2014-01-09</td>\n",
       "      <td>LB1499010</td>\n",
       "      <td>LB149010</td>\n",
       "      <td>Bags</td>\n",
       "      <td>89.6</td>\n",
       "      <td>110.0</td>\n",
       "      <td>7417.4</td>\n",
       "      <td>...</td>\n",
       "      <td>6.57</td>\n",
       "      <td>4.2</td>\n",
       "      <td>6.9</td>\n",
       "      <td>0.442535</td>\n",
       "      <td>13.538889</td>\n",
       "      <td>6.866111</td>\n",
       "      <td>18.744444</td>\n",
       "      <td>7.042778</td>\n",
       "      <td>-0.001111</td>\n",
       "      <td>35.358056</td>\n",
       "    </tr>\n",
       "    <tr>\n",
       "      <th>3</th>\n",
       "      <td>1</td>\n",
       "      <td>2014</td>\n",
       "      <td>2</td>\n",
       "      <td>2014-01-09</td>\n",
       "      <td>LB1499013</td>\n",
       "      <td>LB149013</td>\n",
       "      <td>Bags/NMF</td>\n",
       "      <td>90.8</td>\n",
       "      <td>114.3</td>\n",
       "      <td>7342.8</td>\n",
       "      <td>...</td>\n",
       "      <td>6.5</td>\n",
       "      <td>4.25</td>\n",
       "      <td>6.94</td>\n",
       "      <td>0.691620</td>\n",
       "      <td>5.982222</td>\n",
       "      <td>6.271667</td>\n",
       "      <td>12.984722</td>\n",
       "      <td>6.517500</td>\n",
       "      <td>-0.001111</td>\n",
       "      <td>39.269444</td>\n",
       "    </tr>\n",
       "    <tr>\n",
       "      <th>4</th>\n",
       "      <td>1</td>\n",
       "      <td>2014</td>\n",
       "      <td>3</td>\n",
       "      <td>2014-01-10</td>\n",
       "      <td>LB1499016</td>\n",
       "      <td>LB149016</td>\n",
       "      <td>Bags</td>\n",
       "      <td>90.3</td>\n",
       "      <td>113.9</td>\n",
       "      <td>7398.1</td>\n",
       "      <td>...</td>\n",
       "      <td>6.49</td>\n",
       "      <td>4.4</td>\n",
       "      <td>6.99</td>\n",
       "      <td>0.727685</td>\n",
       "      <td>7.170000</td>\n",
       "      <td>8.272222</td>\n",
       "      <td>13.024444</td>\n",
       "      <td>6.097778</td>\n",
       "      <td>-0.001111</td>\n",
       "      <td>43.589167</td>\n",
       "    </tr>\n",
       "  </tbody>\n",
       "</table>\n",
       "<p>5 rows × 46 columns</p>\n",
       "</div>"
      ],
      "text/plain": [
       "   Month  Year  Week No.       Date Lot Number Cut Lot Number Bag/Bottle  \\\n",
       "0      1  2014         2 2014-01-06  LB1499004       LB149004       Bags   \n",
       "1      1  2014         2 2014-01-08  LB1499007       LB149007       Bags   \n",
       "2      1  2014         2 2014-01-09  LB1499010       LB149010       Bags   \n",
       "3      1  2014         2 2014-01-09  LB1499013       LB149013   Bags/NMF   \n",
       "4      1  2014         3 2014-01-10  LB1499016       LB149016       Bags   \n",
       "\n",
       "   PCA (%)  PPT G (kg)  CPP (kg)    ...      G - Init pH  G - titer  \\\n",
       "0     90.1       112.3    7479.7    ...             6.54       4.48   \n",
       "1     91.1       111.3    7477.7    ...             6.41       4.77   \n",
       "2     89.6       110.0    7417.4    ...             6.57        4.2   \n",
       "3     90.8       114.3    7342.8    ...              6.5       4.25   \n",
       "4     90.3       113.9    7398.1    ...             6.49        4.4   \n",
       "\n",
       "   G - Final pH  G - Aging      TD_CT  FrI_PPT_CT  FrII_PPT_CT  V13_Sep_CT  \\\n",
       "0          6.98   0.662847   8.692500    7.024167    14.136389   10.084722   \n",
       "1          6.83   0.362558   6.581667   12.799167    17.747778    7.583889   \n",
       "2           6.9   0.442535  13.538889    6.866111    18.744444    7.042778   \n",
       "3          6.94   0.691620   5.982222    6.271667    12.984722    6.517500   \n",
       "4          6.99   0.727685   7.170000    8.272222    13.024444    6.097778   \n",
       "\n",
       "   Ext_PPT_CT   G_PPT_CT  \n",
       "0   -0.001111  39.180278  \n",
       "1   -0.001111  37.615833  \n",
       "2   -0.001111  35.358056  \n",
       "3   -0.001111  39.269444  \n",
       "4   -0.001111  43.589167  \n",
       "\n",
       "[5 rows x 46 columns]"
      ]
     },
     "execution_count": 6,
     "metadata": {},
     "output_type": "execute_result"
    }
   ],
   "source": [
    "raw_df = pd.read_excel('Raw data.xlsx', sheetname='Study Data')\n",
    "raw_df = raw_df.dropna()\n",
    "raw_df['Year']= raw_df['Year'].apply(str)\n",
    "raw_df.reset_index(inplace=True,drop=True)\n",
    "raw_df.head()"
   ]
  },
  {
   "cell_type": "code",
   "execution_count": 7,
   "metadata": {
    "collapsed": false
   },
   "outputs": [
    {
     "data": {
      "text/html": [
       "<div>\n",
       "<table border=\"1\" class=\"dataframe\">\n",
       "  <thead>\n",
       "    <tr style=\"text-align: right;\">\n",
       "      <th></th>\n",
       "      <th>Month</th>\n",
       "      <th>Year</th>\n",
       "      <th>Week No.</th>\n",
       "      <th>Date</th>\n",
       "      <th>Lot Number</th>\n",
       "      <th>Cut Lot Number</th>\n",
       "      <th>Bag/Bottle</th>\n",
       "      <th>PCA (%)</th>\n",
       "      <th>PPT G (kg)</th>\n",
       "      <th>CPP (kg)</th>\n",
       "      <th>...</th>\n",
       "      <th>G - Init pH</th>\n",
       "      <th>G - titer</th>\n",
       "      <th>G - Final pH</th>\n",
       "      <th>G - Aging</th>\n",
       "      <th>TD_CT</th>\n",
       "      <th>FrI_PPT_CT</th>\n",
       "      <th>FrII_PPT_CT</th>\n",
       "      <th>V13_Sep_CT</th>\n",
       "      <th>Ext_PPT_CT</th>\n",
       "      <th>G_PPT_CT</th>\n",
       "    </tr>\n",
       "  </thead>\n",
       "  <tbody>\n",
       "    <tr>\n",
       "      <th>0</th>\n",
       "      <td>1</td>\n",
       "      <td>2014</td>\n",
       "      <td>2</td>\n",
       "      <td>2014-01-06</td>\n",
       "      <td>LB1499004</td>\n",
       "      <td>LB149004</td>\n",
       "      <td>Bags</td>\n",
       "      <td>90.1</td>\n",
       "      <td>112.3</td>\n",
       "      <td>7479.7</td>\n",
       "      <td>...</td>\n",
       "      <td>6.54</td>\n",
       "      <td>4.48</td>\n",
       "      <td>6.98</td>\n",
       "      <td>15.908333</td>\n",
       "      <td>8.692500</td>\n",
       "      <td>7.024167</td>\n",
       "      <td>14.136389</td>\n",
       "      <td>10.084722</td>\n",
       "      <td>-0.001111</td>\n",
       "      <td>39.180278</td>\n",
       "    </tr>\n",
       "    <tr>\n",
       "      <th>1</th>\n",
       "      <td>1</td>\n",
       "      <td>2014</td>\n",
       "      <td>2</td>\n",
       "      <td>2014-01-08</td>\n",
       "      <td>LB1499007</td>\n",
       "      <td>LB149007</td>\n",
       "      <td>Bags</td>\n",
       "      <td>91.1</td>\n",
       "      <td>111.3</td>\n",
       "      <td>7477.7</td>\n",
       "      <td>...</td>\n",
       "      <td>6.41</td>\n",
       "      <td>4.77</td>\n",
       "      <td>6.83</td>\n",
       "      <td>8.701389</td>\n",
       "      <td>6.581667</td>\n",
       "      <td>12.799167</td>\n",
       "      <td>17.747778</td>\n",
       "      <td>7.583889</td>\n",
       "      <td>-0.001111</td>\n",
       "      <td>37.615833</td>\n",
       "    </tr>\n",
       "    <tr>\n",
       "      <th>2</th>\n",
       "      <td>1</td>\n",
       "      <td>2014</td>\n",
       "      <td>2</td>\n",
       "      <td>2014-01-09</td>\n",
       "      <td>LB1499010</td>\n",
       "      <td>LB149010</td>\n",
       "      <td>Bags</td>\n",
       "      <td>89.6</td>\n",
       "      <td>110.0</td>\n",
       "      <td>7417.4</td>\n",
       "      <td>...</td>\n",
       "      <td>6.57</td>\n",
       "      <td>4.2</td>\n",
       "      <td>6.9</td>\n",
       "      <td>10.620833</td>\n",
       "      <td>13.538889</td>\n",
       "      <td>6.866111</td>\n",
       "      <td>18.744444</td>\n",
       "      <td>7.042778</td>\n",
       "      <td>-0.001111</td>\n",
       "      <td>35.358056</td>\n",
       "    </tr>\n",
       "    <tr>\n",
       "      <th>3</th>\n",
       "      <td>1</td>\n",
       "      <td>2014</td>\n",
       "      <td>2</td>\n",
       "      <td>2014-01-09</td>\n",
       "      <td>LB1499013</td>\n",
       "      <td>LB149013</td>\n",
       "      <td>Bags/NMF</td>\n",
       "      <td>90.8</td>\n",
       "      <td>114.3</td>\n",
       "      <td>7342.8</td>\n",
       "      <td>...</td>\n",
       "      <td>6.5</td>\n",
       "      <td>4.25</td>\n",
       "      <td>6.94</td>\n",
       "      <td>16.598889</td>\n",
       "      <td>5.982222</td>\n",
       "      <td>6.271667</td>\n",
       "      <td>12.984722</td>\n",
       "      <td>6.517500</td>\n",
       "      <td>-0.001111</td>\n",
       "      <td>39.269444</td>\n",
       "    </tr>\n",
       "    <tr>\n",
       "      <th>4</th>\n",
       "      <td>1</td>\n",
       "      <td>2014</td>\n",
       "      <td>3</td>\n",
       "      <td>2014-01-10</td>\n",
       "      <td>LB1499016</td>\n",
       "      <td>LB149016</td>\n",
       "      <td>Bags</td>\n",
       "      <td>90.3</td>\n",
       "      <td>113.9</td>\n",
       "      <td>7398.1</td>\n",
       "      <td>...</td>\n",
       "      <td>6.49</td>\n",
       "      <td>4.4</td>\n",
       "      <td>6.99</td>\n",
       "      <td>17.464444</td>\n",
       "      <td>7.170000</td>\n",
       "      <td>8.272222</td>\n",
       "      <td>13.024444</td>\n",
       "      <td>6.097778</td>\n",
       "      <td>-0.001111</td>\n",
       "      <td>43.589167</td>\n",
       "    </tr>\n",
       "  </tbody>\n",
       "</table>\n",
       "<p>5 rows × 46 columns</p>\n",
       "</div>"
      ],
      "text/plain": [
       "   Month  Year  Week No.       Date Lot Number Cut Lot Number Bag/Bottle  \\\n",
       "0      1  2014         2 2014-01-06  LB1499004       LB149004       Bags   \n",
       "1      1  2014         2 2014-01-08  LB1499007       LB149007       Bags   \n",
       "2      1  2014         2 2014-01-09  LB1499010       LB149010       Bags   \n",
       "3      1  2014         2 2014-01-09  LB1499013       LB149013   Bags/NMF   \n",
       "4      1  2014         3 2014-01-10  LB1499016       LB149016       Bags   \n",
       "\n",
       "   PCA (%)  PPT G (kg)  CPP (kg)    ...      G - Init pH  G - titer  \\\n",
       "0     90.1       112.3    7479.7    ...             6.54       4.48   \n",
       "1     91.1       111.3    7477.7    ...             6.41       4.77   \n",
       "2     89.6       110.0    7417.4    ...             6.57        4.2   \n",
       "3     90.8       114.3    7342.8    ...              6.5       4.25   \n",
       "4     90.3       113.9    7398.1    ...             6.49        4.4   \n",
       "\n",
       "   G - Final pH  G - Aging      TD_CT  FrI_PPT_CT  FrII_PPT_CT  V13_Sep_CT  \\\n",
       "0          6.98  15.908333   8.692500    7.024167    14.136389   10.084722   \n",
       "1          6.83   8.701389   6.581667   12.799167    17.747778    7.583889   \n",
       "2           6.9  10.620833  13.538889    6.866111    18.744444    7.042778   \n",
       "3          6.94  16.598889   5.982222    6.271667    12.984722    6.517500   \n",
       "4          6.99  17.464444   7.170000    8.272222    13.024444    6.097778   \n",
       "\n",
       "   Ext_PPT_CT   G_PPT_CT  \n",
       "0   -0.001111  39.180278  \n",
       "1   -0.001111  37.615833  \n",
       "2   -0.001111  35.358056  \n",
       "3   -0.001111  39.269444  \n",
       "4   -0.001111  43.589167  \n",
       "\n",
       "[5 rows x 46 columns]"
      ]
     },
     "execution_count": 7,
     "metadata": {},
     "output_type": "execute_result"
    }
   ],
   "source": [
    "# Through graphical exploration, I found out that the feature II+III - Aging needs some data cleaning.\n",
    "# The data is sometimes stored as percentage of a 24-hour period (e.g. 0.25 = a quarter of a day), sometimes\n",
    "# it's stored as hh:mm. \n",
    "tempList = []\n",
    "raw_df['II+III - Aging'] = raw_df['II+III - Aging'].apply(str)\n",
    "for i in raw_df['II+III - Aging']:\n",
    "    if ':' in i:\n",
    "        h,m = i.strip().split(':')\n",
    "        tempHours = float(h) + (float(m) /60)\n",
    "        tempList.append(tempHours)\n",
    "    else:\n",
    "        tempList.append(float(i)*24)\n",
    "raw_df['II+III - Aging'] = tempList\n",
    "\n",
    "raw_df[['I - Aging','Extract - Aging','G - Aging']] = raw_df[['I - Aging','Extract - Aging','G - Aging']].apply(lambda x: x*24)\n",
    "raw_df.head()"
   ]
  },
  {
   "cell_type": "code",
   "execution_count": 8,
   "metadata": {
    "collapsed": false
   },
   "outputs": [
    {
     "data": {
      "text/html": [
       "<div>\n",
       "<table border=\"1\" class=\"dataframe\">\n",
       "  <thead>\n",
       "    <tr style=\"text-align: right;\">\n",
       "      <th></th>\n",
       "      <th>I - Aging</th>\n",
       "      <th>II+III - Aging</th>\n",
       "      <th>Extract - Aging</th>\n",
       "      <th>G - Aging</th>\n",
       "    </tr>\n",
       "  </thead>\n",
       "  <tbody>\n",
       "    <tr>\n",
       "      <th>count</th>\n",
       "      <td>449.000000</td>\n",
       "      <td>449.000000</td>\n",
       "      <td>449.000000</td>\n",
       "      <td>449.000000</td>\n",
       "    </tr>\n",
       "    <tr>\n",
       "      <th>mean</th>\n",
       "      <td>8.808753</td>\n",
       "      <td>16.041277</td>\n",
       "      <td>3.121265</td>\n",
       "      <td>18.522094</td>\n",
       "    </tr>\n",
       "    <tr>\n",
       "      <th>std</th>\n",
       "      <td>7.388653</td>\n",
       "      <td>11.460087</td>\n",
       "      <td>0.748721</td>\n",
       "      <td>15.011769</td>\n",
       "    </tr>\n",
       "    <tr>\n",
       "      <th>min</th>\n",
       "      <td>0.850000</td>\n",
       "      <td>4.733333</td>\n",
       "      <td>2.116667</td>\n",
       "      <td>2.550000</td>\n",
       "    </tr>\n",
       "    <tr>\n",
       "      <th>25%</th>\n",
       "      <td>5.533333</td>\n",
       "      <td>7.500000</td>\n",
       "      <td>2.566667</td>\n",
       "      <td>3.650000</td>\n",
       "    </tr>\n",
       "    <tr>\n",
       "      <th>50%</th>\n",
       "      <td>6.500000</td>\n",
       "      <td>13.000000</td>\n",
       "      <td>3.150000</td>\n",
       "      <td>14.083333</td>\n",
       "    </tr>\n",
       "    <tr>\n",
       "      <th>75%</th>\n",
       "      <td>10.416667</td>\n",
       "      <td>21.500000</td>\n",
       "      <td>3.350000</td>\n",
       "      <td>30.350000</td>\n",
       "    </tr>\n",
       "    <tr>\n",
       "      <th>max</th>\n",
       "      <td>70.783333</td>\n",
       "      <td>91.066667</td>\n",
       "      <td>10.450000</td>\n",
       "      <td>84.583333</td>\n",
       "    </tr>\n",
       "  </tbody>\n",
       "</table>\n",
       "</div>"
      ],
      "text/plain": [
       "        I - Aging  II+III - Aging  Extract - Aging   G - Aging\n",
       "count  449.000000      449.000000       449.000000  449.000000\n",
       "mean     8.808753       16.041277         3.121265   18.522094\n",
       "std      7.388653       11.460087         0.748721   15.011769\n",
       "min      0.850000        4.733333         2.116667    2.550000\n",
       "25%      5.533333        7.500000         2.566667    3.650000\n",
       "50%      6.500000       13.000000         3.150000   14.083333\n",
       "75%     10.416667       21.500000         3.350000   30.350000\n",
       "max     70.783333       91.066667        10.450000   84.583333"
      ]
     },
     "execution_count": 8,
     "metadata": {},
     "output_type": "execute_result"
    }
   ],
   "source": [
    "raw_df[['I - Aging','II+III - Aging','Extract - Aging','G - Aging']].describe()"
   ]
  },
  {
   "cell_type": "code",
   "execution_count": 9,
   "metadata": {
    "collapsed": false
   },
   "outputs": [
    {
     "name": "stdout",
     "output_type": "stream",
     "text": [
      "Length of data: 425\n"
     ]
    }
   ],
   "source": [
    "# Cleaning some more data...\n",
    "raw_df['G - Init pH'] = raw_df['G - Init pH'].apply(str)\n",
    "raw_df['G - titer'] = raw_df['G - titer'].apply(str)\n",
    "raw_df['G - Final pH'] = raw_df['G - Final pH'].apply(str)\n",
    "\n",
    "raw_df = raw_df[~raw_df['G - Init pH'].str.contains('\\)')]\n",
    "raw_df = raw_df[~raw_df['G - titer'].str.contains('\\)')]\n",
    "raw_df = raw_df[~raw_df['G - Final pH'].str.contains('is')]\n",
    "\n",
    "raw_df['G - Init pH'] = raw_df['G - Init pH'].apply(float)\n",
    "raw_df['G - titer'] = raw_df['G - titer'].apply(float)\n",
    "raw_df['G - Final pH'] = raw_df['G - Final pH'].apply(float)\n",
    "\n",
    "\n",
    "print 'Length of data:',len(raw_df)\n"
   ]
  },
  {
   "cell_type": "markdown",
   "metadata": {},
   "source": [
    "# Features Exploration and Further Data Cleaning\n",
    "In this section, the goal is to look at all the features and see which ones can be used as numerical or categorical features. Also, anything that needs transforming or adding dummy variables. I'll do it here too. It's a long list of features so this will be a big section."
   ]
  },
  {
   "cell_type": "code",
   "execution_count": 10,
   "metadata": {
    "collapsed": false
   },
   "outputs": [
    {
     "data": {
      "text/plain": [
       "Month                      0\n",
       "Year                       0\n",
       "Week No.                   0\n",
       "Date                       0\n",
       "Lot Number                 0\n",
       "Cut Lot Number             0\n",
       "Bag/Bottle                 0\n",
       "PCA (%)                    0\n",
       "PPT G (kg)                 0\n",
       "CPP (kg)                   0\n",
       "g PPT G/kg CPP             0\n",
       "Total Protein (g/dL)       0\n",
       "CUNO Filt (kg)             0\n",
       "VP (L)                     0\n",
       "Diluted CPP (kg)           0\n",
       "Dilution (kg)              0\n",
       "CPP IgG before Fr1         0\n",
       "Cuno IgG FP6               0\n",
       "Diluted % Efficiency       0\n",
       "CPP (L)                    0\n",
       "G Conv (g IgG/Kg PPT G)    0\n",
       "Yield CP (WT)              0\n",
       "Yield_Label                0\n",
       "Yield_Label_2              0\n",
       "Yield VP (WT)              0\n",
       "I - Final pH               0\n",
       "I - Aging                  0\n",
       "II+III After Alc pH        0\n",
       "II+III After Alc Titer     0\n",
       "II+III - Final pH          0\n",
       "II+III - Aging             0\n",
       "II+III Paste Wt            0\n",
       "Buffer 1 Amt               0\n",
       "Extraction Ratio           0\n",
       "Extract - Final pH         0\n",
       "Extract - Aging            0\n",
       "G - Init pH                0\n",
       "G - titer                  0\n",
       "G - Final pH               0\n",
       "G - Aging                  0\n",
       "TD_CT                      0\n",
       "FrI_PPT_CT                 0\n",
       "FrII_PPT_CT                0\n",
       "V13_Sep_CT                 0\n",
       "Ext_PPT_CT                 0\n",
       "G_PPT_CT                   0\n",
       "dtype: int64"
      ]
     },
     "execution_count": 10,
     "metadata": {},
     "output_type": "execute_result"
    }
   ],
   "source": [
    "# Using isnull().sum() instead of .columns gives you a vertical list of columns, which I prefer. \n",
    "# Also checks for any missed NA values.\n",
    "raw_df.isnull().sum()"
   ]
  },
  {
   "cell_type": "markdown",
   "metadata": {},
   "source": [
    "## Bag/Bottle\n",
    "Our raw material comes in 3 flavors. I foresee that much of my feature analysis will be a cross examination with this feature."
   ]
  },
  {
   "cell_type": "code",
   "execution_count": 11,
   "metadata": {
    "collapsed": false
   },
   "outputs": [
    {
     "name": "stdout",
     "output_type": "stream",
     "text": [
      "Bag/Bottle  Bags  Bags/NMF  Bottle\n",
      "Year                              \n",
      "2014          62         9      41\n",
      "2015         125        25      65\n",
      "2016          56         7      35\n"
     ]
    },
    {
     "data": {
      "image/png": "[encoded data removed]",
      "text/plain": [
       "<matplotlib.figure.Figure at 0x106a68fd0>"
      ]
     },
     "metadata": {},
     "output_type": "display_data"
    }
   ],
   "source": [
    "plt.figure(figsize=(15,5))\n",
    "plt.plot(pd.crosstab(index=raw_df['Year'],columns=raw_df['Bag/Bottle'])['Bags'], label='Bags')\n",
    "plt.plot(pd.crosstab(index=raw_df['Year'],columns=raw_df['Bag/Bottle'])['Bags/NMF'], label='Bags/NMF')\n",
    "plt.plot(pd.crosstab(index=raw_df['Year'],columns=raw_df['Bag/Bottle'])['Bottle'], label='Bottle')\n",
    "plt.legend()\n",
    "plt.title('Count of Observations by Year')\n",
    "plt.ticklabel_format(useOffset=False)\n",
    "\n",
    "print pd.crosstab(index=raw_df['Year'],columns=raw_df['Bag/Bottle'])"
   ]
  },
  {
   "cell_type": "markdown",
   "metadata": {},
   "source": [
    "## Helper Functions"
   ]
  },
  {
   "cell_type": "code",
   "execution_count": 12,
   "metadata": {
    "collapsed": true
   },
   "outputs": [],
   "source": [
    "def box_and_dist_graphs(df,feature):\n",
    "    '''\n",
    "    Takes in two arguments: (df=DataFrame, feature=str).\n",
    "    Displays a bunch of seaborn charts.\n",
    "    Returns None\n",
    "    '''\n",
    "    plt.figure()\n",
    "    sns.boxplot(data=df,x='Bag/Bottle',y=feature,width=.5)\n",
    "    \n",
    "    plt.figure(figsize=(18,4))\n",
    "    plt.subplot(131)\n",
    "    plt.title('Bags')\n",
    "    sns.distplot(df[df['Bag/Bottle']=='Bags'][feature],kde=False)\n",
    "    plt.subplot(132)\n",
    "    plt.title('Bags/NMF')\n",
    "    sns.distplot(df[df['Bag/Bottle']=='Bags/NMF'][feature],kde=False)\n",
    "    plt.subplot(133)\n",
    "    plt.title('Bottle')\n",
    "    sns.distplot(df[df['Bag/Bottle']=='Bottle'][feature],kde=False)\n",
    "    return None"
   ]
  },
  {
   "cell_type": "markdown",
   "metadata": {},
   "source": [
    "## CPP (kg)"
   ]
  },
  {
   "cell_type": "code",
   "execution_count": 13,
   "metadata": {
    "collapsed": false
   },
   "outputs": [
    {
     "data": {
      "image/png": "[encoded data removed]",
      "text/plain": [
       "<matplotlib.figure.Figure at 0x11ab62d90>"
      ]
     },
     "metadata": {},
     "output_type": "display_data"
    },
    {
     "data": {
      "image/png": "[encoded data removed]",
      "text/plain": [
       "<matplotlib.figure.Figure at 0x11ab62a10>"
      ]
     },
     "metadata": {},
     "output_type": "display_data"
    }
   ],
   "source": [
    "box_and_dist_graphs(df=raw_df,feature='CPP (kg)')"
   ]
  },
  {
   "cell_type": "markdown",
   "metadata": {},
   "source": [
    "## CUNO Filt (kg)"
   ]
  },
  {
   "cell_type": "code",
   "execution_count": 14,
   "metadata": {
    "collapsed": false
   },
   "outputs": [
    {
     "data": {
      "image/png": "[encoded data removed]",
      "text/plain": [
       "<matplotlib.figure.Figure at 0x11e9511d0>"
      ]
     },
     "metadata": {},
     "output_type": "display_data"
    },
    {
     "data": {
      "image/png": "[encoded data removed]",
      "text/plain": [
       "<matplotlib.figure.Figure at 0x11e92c990>"
      ]
     },
     "metadata": {},
     "output_type": "display_data"
    }
   ],
   "source": [
    "box_and_dist_graphs(raw_df,'CUNO Filt (kg)')"
   ]
  },
  {
   "cell_type": "code",
   "execution_count": 15,
   "metadata": {
    "collapsed": false
   },
   "outputs": [],
   "source": [
    "raw_df['CUNO Filt (kg)'].sort_values(ascending=True)\n",
    "raw_df = raw_df[~raw_df.index.isin([67,130])]"
   ]
  },
  {
   "cell_type": "markdown",
   "metadata": {},
   "source": [
    "## Diluted CPP (kg)"
   ]
  },
  {
   "cell_type": "code",
   "execution_count": 16,
   "metadata": {
    "collapsed": false
   },
   "outputs": [
    {
     "data": {
      "image/png": "[encoded data removed]",
      "text/plain": [
       "<matplotlib.figure.Figure at 0x11ab54b50>"
      ]
     },
     "metadata": {},
     "output_type": "display_data"
    },
    {
     "data": {
      "image/png": "[encoded data removed]",
      "text/plain": [
       "<matplotlib.figure.Figure at 0x11ef5cd90>"
      ]
     },
     "metadata": {},
     "output_type": "display_data"
    }
   ],
   "source": [
    "box_and_dist_graphs(raw_df,'Diluted CPP (kg)')"
   ]
  },
  {
   "cell_type": "markdown",
   "metadata": {},
   "source": [
    "## Dilution (kg)"
   ]
  },
  {
   "cell_type": "code",
   "execution_count": 17,
   "metadata": {
    "collapsed": false
   },
   "outputs": [
    {
     "data": {
      "image/png": "[encoded data removed]",
      "text/plain": [
       "<matplotlib.figure.Figure at 0x11ef51b10>"
      ]
     },
     "metadata": {},
     "output_type": "display_data"
    },
    {
     "data": {
      "image/png": "[encoded data removed]",
      "text/plain": [
       "<matplotlib.figure.Figure at 0x11ea537d0>"
      ]
     },
     "metadata": {},
     "output_type": "display_data"
    }
   ],
   "source": [
    "box_and_dist_graphs(raw_df,'Dilution (kg)')"
   ]
  },
  {
   "cell_type": "markdown",
   "metadata": {},
   "source": [
    "## VP (L)"
   ]
  },
  {
   "cell_type": "code",
   "execution_count": 18,
   "metadata": {
    "collapsed": false
   },
   "outputs": [],
   "source": [
    "# box_and_dist_graphs(raw_df,'VP (L)')"
   ]
  },
  {
   "cell_type": "markdown",
   "metadata": {},
   "source": [
    "## CPP IGG Before Fr1"
   ]
  },
  {
   "cell_type": "code",
   "execution_count": 19,
   "metadata": {
    "collapsed": false
   },
   "outputs": [
    {
     "data": {
      "image/png": "[encoded data removed]",
      "text/plain": [
       "<matplotlib.figure.Figure at 0x11ec16e50>"
      ]
     },
     "metadata": {},
     "output_type": "display_data"
    },
    {
     "data": {
      "image/png": "[encoded data removed]",
      "text/plain": [
       "<matplotlib.figure.Figure at 0x11ae93590>"
      ]
     },
     "metadata": {},
     "output_type": "display_data"
    }
   ],
   "source": [
    "box_and_dist_graphs(raw_df,'CPP IgG before Fr1')"
   ]
  },
  {
   "cell_type": "code",
   "execution_count": 20,
   "metadata": {
    "collapsed": false
   },
   "outputs": [],
   "source": [
    "raw_df['CPP IgG before Fr1'].sort_values(ascending=False)\n",
    "raw_df = raw_df[~raw_df.index.isin([56])]"
   ]
  },
  {
   "cell_type": "markdown",
   "metadata": {},
   "source": [
    "## Cuno IgG FP6"
   ]
  },
  {
   "cell_type": "code",
   "execution_count": 21,
   "metadata": {
    "collapsed": false
   },
   "outputs": [],
   "source": [
    "# box_and_dist_graphs(raw_df,'Cuno IgG FP6')"
   ]
  },
  {
   "cell_type": "markdown",
   "metadata": {},
   "source": [
    "## I - Final pH"
   ]
  },
  {
   "cell_type": "code",
   "execution_count": 22,
   "metadata": {
    "collapsed": false
   },
   "outputs": [
    {
     "data": {
      "image/png": "[encoded data removed]",
      "text/plain": [
       "<matplotlib.figure.Figure at 0x11ef5ce10>"
      ]
     },
     "metadata": {},
     "output_type": "display_data"
    },
    {
     "data": {
      "image/png": "[encoded data removed]",
      "text/plain": [
       "<matplotlib.figure.Figure at 0x11e68c290>"
      ]
     },
     "metadata": {},
     "output_type": "display_data"
    }
   ],
   "source": [
    "box_and_dist_graphs(raw_df,'I - Final pH')"
   ]
  },
  {
   "cell_type": "markdown",
   "metadata": {},
   "source": [
    "There's this extreme outlier that I'm pretty sure is an error. Let me remove it from the dataset."
   ]
  },
  {
   "cell_type": "code",
   "execution_count": 23,
   "metadata": {
    "collapsed": false
   },
   "outputs": [
    {
     "name": "stdout",
     "output_type": "stream",
     "text": [
      "Data length before dropping observation: 422\n",
      "Data length after dropping observation: 421\n"
     ]
    }
   ],
   "source": [
    "raw_df['I - Final pH'].sort_values() # index number 341 is the culprit\n",
    "print 'Data length before dropping observation:',len(raw_df)\n",
    "raw_df2 = raw_df[raw_df['I - Final pH'] != 0] # keep incrementing the raw_dfX number so I won't harm my orignal raw_df\n",
    "print 'Data length after dropping observation:',len(raw_df2)"
   ]
  },
  {
   "cell_type": "code",
   "execution_count": 24,
   "metadata": {
    "collapsed": false
   },
   "outputs": [
    {
     "data": {
      "image/png": "[encoded data removed]",
      "text/plain": [
       "<matplotlib.figure.Figure at 0x11f241250>"
      ]
     },
     "metadata": {},
     "output_type": "display_data"
    },
    {
     "data": {
      "image/png": "[encoded data removed]",
      "text/plain": [
       "<matplotlib.figure.Figure at 0x11e95df90>"
      ]
     },
     "metadata": {},
     "output_type": "display_data"
    }
   ],
   "source": [
    "box_and_dist_graphs(raw_df2,'I - Final pH')"
   ]
  },
  {
   "cell_type": "markdown",
   "metadata": {},
   "source": [
    "## I - Aging"
   ]
  },
  {
   "cell_type": "code",
   "execution_count": 275,
   "metadata": {
    "collapsed": false
   },
   "outputs": [],
   "source": [
    "# box_and_dist_graphs(raw_df2,'I - Aging')"
   ]
  },
  {
   "cell_type": "code",
   "execution_count": 276,
   "metadata": {
    "collapsed": false
   },
   "outputs": [],
   "source": [
    "raw_df2['I - Aging'].sort_values(ascending=False)\n",
    "raw_df2 = raw_df2[~raw_df2.index.isin([380,369,370])]"
   ]
  },
  {
   "cell_type": "code",
   "execution_count": 277,
   "metadata": {
    "collapsed": false
   },
   "outputs": [],
   "source": [
    "# box_and_dist_graphs(raw_df2,'I - Aging')"
   ]
  },
  {
   "cell_type": "markdown",
   "metadata": {},
   "source": [
    "## II+III After Alc pH"
   ]
  },
  {
   "cell_type": "code",
   "execution_count": 278,
   "metadata": {
    "collapsed": false
   },
   "outputs": [],
   "source": [
    "# box_and_dist_graphs(raw_df2,'II+III After Alc pH')"
   ]
  },
  {
   "cell_type": "markdown",
   "metadata": {
    "collapsed": true
   },
   "source": [
    "## II+III After Alc Titer"
   ]
  },
  {
   "cell_type": "code",
   "execution_count": 279,
   "metadata": {
    "collapsed": false
   },
   "outputs": [],
   "source": [
    "# box_and_dist_graphs(raw_df2,'II+III After Alc Titer')"
   ]
  },
  {
   "cell_type": "markdown",
   "metadata": {
    "collapsed": true
   },
   "source": [
    "## II+III - Final pH"
   ]
  },
  {
   "cell_type": "code",
   "execution_count": 280,
   "metadata": {
    "collapsed": false
   },
   "outputs": [],
   "source": [
    "# box_and_dist_graphs(raw_df2,'II+III - Final pH')"
   ]
  },
  {
   "cell_type": "markdown",
   "metadata": {
    "collapsed": true
   },
   "source": [
    "Need to take out that outlier"
   ]
  },
  {
   "cell_type": "code",
   "execution_count": 281,
   "metadata": {
    "collapsed": false
   },
   "outputs": [
    {
     "name": "stdout",
     "output_type": "stream",
     "text": [
      "Before removing outlier, length of raw_df2: 418\n",
      "After removing outlier, length of raw_df3: 417\n"
     ]
    }
   ],
   "source": [
    "raw_df2[raw_df2['Bag/Bottle']=='Bottle']['II+III - Final pH'].sort_values(ascending=False) # pH value is 1004.00, index 286\n",
    "print 'Before removing outlier, length of raw_df2:',len(raw_df2)\n",
    "raw_df3 = raw_df2[raw_df2['II+III - Final pH'] != 1004.00]\n",
    "print 'After removing outlier, length of raw_df3:',len(raw_df3)"
   ]
  },
  {
   "cell_type": "code",
   "execution_count": 282,
   "metadata": {
    "collapsed": false
   },
   "outputs": [],
   "source": [
    "raw_df3['II+III - Final pH'].sort_values(ascending=True)\n",
    "raw_df3 = raw_df3[~raw_df3.index.isin([168])]\n",
    "# box_and_dist_graphs(raw_df3,'II+III - Final pH')"
   ]
  },
  {
   "cell_type": "markdown",
   "metadata": {
    "collapsed": true
   },
   "source": [
    "## II+III - Aging"
   ]
  },
  {
   "cell_type": "code",
   "execution_count": 283,
   "metadata": {
    "collapsed": false
   },
   "outputs": [],
   "source": [
    "# box_and_dist_graphs(raw_df3,'II+III - Aging')"
   ]
  },
  {
   "cell_type": "code",
   "execution_count": 284,
   "metadata": {
    "collapsed": false
   },
   "outputs": [],
   "source": [
    "raw_df3['II+III - Aging'].sort_values(ascending=False)\n",
    "raw_df3 = raw_df3[~raw_df3.index.isin([381])]\n",
    "# box_and_dist_graphs(raw_df3,'II+III - Aging')"
   ]
  },
  {
   "cell_type": "markdown",
   "metadata": {},
   "source": [
    "## II+III Paste Wt"
   ]
  },
  {
   "cell_type": "code",
   "execution_count": 285,
   "metadata": {
    "collapsed": false
   },
   "outputs": [],
   "source": [
    "# box_and_dist_graphs(raw_df3,'II+III Paste Wt')"
   ]
  },
  {
   "cell_type": "code",
   "execution_count": 286,
   "metadata": {
    "collapsed": false
   },
   "outputs": [
    {
     "name": "stdout",
     "output_type": "stream",
     "text": [
      "Before removing outlier, length of raw_df3: 415\n",
      "After removing outlier, length of raw_df4: 414\n"
     ]
    }
   ],
   "source": [
    "raw_df3['II+III Paste Wt'].sort_values(ascending=True)\n",
    "# Index 154 and the value is 498\n",
    "print 'Before removing outlier, length of raw_df3:',len(raw_df3)\n",
    "raw_df4 = raw_df3[raw_df3['II+III Paste Wt'] != 498]\n",
    "print 'After removing outlier, length of raw_df4:',len(raw_df4)"
   ]
  },
  {
   "cell_type": "code",
   "execution_count": 287,
   "metadata": {
    "collapsed": false
   },
   "outputs": [],
   "source": [
    "# box_and_dist_graphs(raw_df4,'II+III Paste Wt')"
   ]
  },
  {
   "cell_type": "markdown",
   "metadata": {},
   "source": [
    "## Buffer 1 Amt"
   ]
  },
  {
   "cell_type": "code",
   "execution_count": 288,
   "metadata": {
    "collapsed": false
   },
   "outputs": [],
   "source": [
    "# box_and_dist_graphs(raw_df4,'Buffer 1 Amt')"
   ]
  },
  {
   "cell_type": "markdown",
   "metadata": {},
   "source": [
    "## Extract - Final pH"
   ]
  },
  {
   "cell_type": "code",
   "execution_count": 289,
   "metadata": {
    "collapsed": false
   },
   "outputs": [],
   "source": [
    "# box_and_dist_graphs(raw_df4,'Extract - Final pH')"
   ]
  },
  {
   "cell_type": "code",
   "execution_count": 290,
   "metadata": {
    "collapsed": false
   },
   "outputs": [],
   "source": [
    "raw_df4['Extract - Final pH'].sort_values(ascending=False)\n",
    "raw_df4 = raw_df4[~raw_df4.index.isin([160])]\n",
    "# box_and_dist_graphs(raw_df4,'Extract - Final pH')"
   ]
  },
  {
   "cell_type": "markdown",
   "metadata": {},
   "source": [
    "## Extract - Aging"
   ]
  },
  {
   "cell_type": "code",
   "execution_count": 291,
   "metadata": {
    "collapsed": false
   },
   "outputs": [],
   "source": [
    "# box_and_dist_graphs(raw_df4,'Extract - Aging')"
   ]
  },
  {
   "cell_type": "code",
   "execution_count": 292,
   "metadata": {
    "collapsed": false
   },
   "outputs": [],
   "source": [
    "raw_df4['Extract - Aging'].sort_values(ascending=False)\n",
    "raw_df4 = raw_df4[~raw_df4.index.isin([342])]\n",
    "# box_and_dist_graphs(raw_df4,'Extract - Aging')"
   ]
  },
  {
   "cell_type": "markdown",
   "metadata": {},
   "source": [
    "## G - Init pH"
   ]
  },
  {
   "cell_type": "code",
   "execution_count": 293,
   "metadata": {
    "collapsed": false
   },
   "outputs": [],
   "source": [
    "# box_and_dist_graphs(raw_df4,'G - Init pH')"
   ]
  },
  {
   "cell_type": "code",
   "execution_count": 294,
   "metadata": {
    "collapsed": false
   },
   "outputs": [
    {
     "name": "stdout",
     "output_type": "stream",
     "text": [
      "Before removal: 412\n",
      "After removal: 411\n"
     ]
    }
   ],
   "source": [
    "raw_df4['G - Init pH'].sort_values(ascending=True)\n",
    "# index 276 and value is 0.00\n",
    "print 'Before removal:', len(raw_df4)\n",
    "raw_df5= raw_df4[raw_df4['G - Init pH'] != 0.0]\n",
    "print 'After removal:', len(raw_df5)"
   ]
  },
  {
   "cell_type": "code",
   "execution_count": 295,
   "metadata": {
    "collapsed": false
   },
   "outputs": [],
   "source": [
    "raw_df5['G - Init pH'].sort_values(ascending=True)\n",
    "raw_df5 = raw_df5[~raw_df5.index.isin([214,186,329])]\n",
    "# box_and_dist_graphs(raw_df5,'G - Init pH')"
   ]
  },
  {
   "cell_type": "markdown",
   "metadata": {},
   "source": [
    "## G - titer"
   ]
  },
  {
   "cell_type": "code",
   "execution_count": 296,
   "metadata": {
    "collapsed": false
   },
   "outputs": [],
   "source": [
    "# box_and_dist_graphs(raw_df5,'G - titer')"
   ]
  },
  {
   "cell_type": "code",
   "execution_count": 297,
   "metadata": {
    "collapsed": false
   },
   "outputs": [
    {
     "name": "stdout",
     "output_type": "stream",
     "text": [
      "Before removal: 408\n",
      "After removal: 405\n"
     ]
    }
   ],
   "source": [
    "raw_df5['G - titer'].sort_values(ascending=True)\n",
    "# outliers are index 83,93,150\n",
    "print 'Before removal:',len(raw_df5)\n",
    "raw_df6 = raw_df5[~raw_df5['G - titer'].isin([0.15,0.17,0.18])]\n",
    "print 'After removal:',len(raw_df6)"
   ]
  },
  {
   "cell_type": "code",
   "execution_count": 298,
   "metadata": {
    "collapsed": false
   },
   "outputs": [],
   "source": [
    "# box_and_dist_graphs(raw_df6,'G - titer')"
   ]
  },
  {
   "cell_type": "markdown",
   "metadata": {},
   "source": [
    "## G - Final pH"
   ]
  },
  {
   "cell_type": "code",
   "execution_count": 299,
   "metadata": {
    "collapsed": false
   },
   "outputs": [],
   "source": [
    "# box_and_dist_graphs(raw_df6,'G - Final pH')"
   ]
  },
  {
   "cell_type": "code",
   "execution_count": 300,
   "metadata": {
    "collapsed": false
   },
   "outputs": [
    {
     "name": "stdout",
     "output_type": "stream",
     "text": [
      "Before removal: 405\n",
      "After removal: 401\n"
     ]
    }
   ],
   "source": [
    "raw_df6['G - Final pH'].sort_values(ascending=True)\n",
    "print 'Before removal:',len(raw_df6)\n",
    "raw_df7 = raw_df6[raw_df6['G - Final pH']!=0.00]\n",
    "print 'After removal:',len(raw_df7)"
   ]
  },
  {
   "cell_type": "code",
   "execution_count": 301,
   "metadata": {
    "collapsed": false
   },
   "outputs": [],
   "source": [
    "# box_and_dist_graphs(raw_df7,'G - Final pH')"
   ]
  },
  {
   "cell_type": "markdown",
   "metadata": {},
   "source": [
    "## G - Aging"
   ]
  },
  {
   "cell_type": "code",
   "execution_count": 302,
   "metadata": {
    "collapsed": false
   },
   "outputs": [],
   "source": [
    "# box_and_dist_graphs(raw_df7,'G - Aging')"
   ]
  },
  {
   "cell_type": "markdown",
   "metadata": {},
   "source": [
    "## TD_CT"
   ]
  },
  {
   "cell_type": "code",
   "execution_count": 303,
   "metadata": {
    "collapsed": false
   },
   "outputs": [],
   "source": [
    "# box_and_dist_graphs(raw_df7,'TD_CT')"
   ]
  },
  {
   "cell_type": "markdown",
   "metadata": {},
   "source": [
    "## FrI_PPT_CT"
   ]
  },
  {
   "cell_type": "code",
   "execution_count": 304,
   "metadata": {
    "collapsed": false
   },
   "outputs": [],
   "source": [
    "# box_and_dist_graphs(raw_df7,'FrI_PPT_CT')"
   ]
  },
  {
   "cell_type": "markdown",
   "metadata": {},
   "source": [
    "## FrII_PPT_CT"
   ]
  },
  {
   "cell_type": "code",
   "execution_count": 305,
   "metadata": {
    "collapsed": false
   },
   "outputs": [],
   "source": [
    "# box_and_dist_graphs(raw_df7,'FrII_PPT_CT')"
   ]
  },
  {
   "cell_type": "markdown",
   "metadata": {},
   "source": [
    "## V13_Sep_CT"
   ]
  },
  {
   "cell_type": "code",
   "execution_count": 306,
   "metadata": {
    "collapsed": false
   },
   "outputs": [],
   "source": [
    "# box_and_dist_graphs(raw_df7,'V13_Sep_CT')"
   ]
  },
  {
   "cell_type": "code",
   "execution_count": 307,
   "metadata": {
    "collapsed": false
   },
   "outputs": [
    {
     "name": "stdout",
     "output_type": "stream",
     "text": [
      "Before removal: 401\n",
      "After removal: 400\n"
     ]
    }
   ],
   "source": [
    "raw_df7['V13_Sep_CT'].sort_values(ascending=True)\n",
    "print 'Before removal:',len(raw_df7)\n",
    "raw_df8 = raw_df7[raw_df7['V13_Sep_CT'] != -16.038611111172941]\n",
    "print 'After removal:',len(raw_df8)"
   ]
  },
  {
   "cell_type": "code",
   "execution_count": 308,
   "metadata": {
    "collapsed": false
   },
   "outputs": [],
   "source": [
    "# box_and_dist_graphs(raw_df8,'V13_Sep_CT')"
   ]
  },
  {
   "cell_type": "markdown",
   "metadata": {},
   "source": [
    "## Ext_PPT_CT"
   ]
  },
  {
   "cell_type": "code",
   "execution_count": 309,
   "metadata": {
    "collapsed": false
   },
   "outputs": [],
   "source": [
    "# box_and_dist_graphs(raw_df8,'Ext_PPT_CT')"
   ]
  },
  {
   "cell_type": "markdown",
   "metadata": {},
   "source": [
    "There are still issues with this feature's data set. I will ignore this feature for now."
   ]
  },
  {
   "cell_type": "markdown",
   "metadata": {},
   "source": [
    "## G_PPT_CT"
   ]
  },
  {
   "cell_type": "code",
   "execution_count": 310,
   "metadata": {
    "collapsed": false
   },
   "outputs": [],
   "source": [
    "# box_and_dist_graphs(raw_df8,'G_PPT_CT')"
   ]
  },
  {
   "cell_type": "markdown",
   "metadata": {},
   "source": [
    "## Diluted % Efficiency\n",
    "This can also be the study's target"
   ]
  },
  {
   "cell_type": "code",
   "execution_count": 311,
   "metadata": {
    "collapsed": false
   },
   "outputs": [
    {
     "data": {
      "image/png": "[encoded data removed]",
      "text/plain": [
       "<matplotlib.figure.Figure at 0x14e37a20>"
      ]
     },
     "metadata": {},
     "output_type": "display_data"
    },
    {
     "data": {
      "image/png": "[encoded data removed]",
      "text/plain": [
       "<matplotlib.figure.Figure at 0x1848dda0>"
      ]
     },
     "metadata": {},
     "output_type": "display_data"
    }
   ],
   "source": [
    "box_and_dist_graphs(raw_df8,'Diluted % Efficiency')"
   ]
  },
  {
   "cell_type": "markdown",
   "metadata": {},
   "source": [
    "## Yield CP (WT)\n",
    "This is the study's target."
   ]
  },
  {
   "cell_type": "code",
   "execution_count": 312,
   "metadata": {
    "collapsed": false
   },
   "outputs": [
    {
     "data": {
      "image/png": "[encoded data removed]",
      "text/plain": [
       "<matplotlib.figure.Figure at 0xcdf1b70>"
      ]
     },
     "metadata": {},
     "output_type": "display_data"
    },
    {
     "data": {
      "image/png": "[encoded data removed]",
      "text/plain": [
       "<matplotlib.figure.Figure at 0xf6f8668>"
      ]
     },
     "metadata": {},
     "output_type": "display_data"
    }
   ],
   "source": [
    "box_and_dist_graphs(raw_df8,'Yield CP (WT)')"
   ]
  },
  {
   "cell_type": "markdown",
   "metadata": {},
   "source": [
    "Let's see if our yield is significantly different purely based on our raw material containers. Let's run a One-Way ANOVA test."
   ]
  },
  {
   "cell_type": "code",
   "execution_count": 313,
   "metadata": {
    "collapsed": false
   },
   "outputs": [],
   "source": [
    "colors = []\n",
    "for i in raw_df8['Year']:\n",
    "    if i == '2014':\n",
    "        colors.append('r')\n",
    "    if i == '2015':\n",
    "        colors.append('g')\n",
    "    if i == '2016':\n",
    "        colors.append('b')\n",
    "# plt.scatter(x=range(len(raw_df8)),y=raw_df8['Yield CP (WT)'], c = colors)\n",
    "# plt.title('Yield CP from 2014 to 2016')"
   ]
  },
  {
   "cell_type": "code",
   "execution_count": 314,
   "metadata": {
    "collapsed": false
   },
   "outputs": [
    {
     "name": "stdout",
     "output_type": "stream",
     "text": [
      "F-Statistic: 16.7056955795\n",
      "P-Value: 1.08140875166e-07\n"
     ]
    }
   ],
   "source": [
    "bags_yield = raw_df8[raw_df8['Bag/Bottle']=='Bags']['Yield CP (WT)']\n",
    "nmf_yield = raw_df8[raw_df8['Bag/Bottle']=='Bags/NMF']['Yield CP (WT)']\n",
    "bottles_yield = raw_df8[raw_df8['Bag/Bottle']=='Bottle']['Yield CP (WT)']\n",
    "print 'F-Statistic:',spStats.f_oneway(bags_yield,nmf_yield,bottles_yield)[0]\n",
    "print 'P-Value:',spStats.f_oneway(bags_yield,nmf_yield,bottles_yield)[1]"
   ]
  },
  {
   "cell_type": "markdown",
   "metadata": {},
   "source": [
    "We can reject the null hypothesis and assume that containers have different yields."
   ]
  },
  {
   "cell_type": "markdown",
   "metadata": {},
   "source": [
    "# Features Selection\n",
    "Now that we have a final cleaned dataframe that we can work with, let's look at selecting features to be used to model our target."
   ]
  },
  {
   "cell_type": "code",
   "execution_count": 315,
   "metadata": {
    "collapsed": false
   },
   "outputs": [
    {
     "data": {
      "text/plain": [
       "400"
      ]
     },
     "execution_count": 315,
     "metadata": {},
     "output_type": "execute_result"
    }
   ],
   "source": [
    "processed_df = copy.deepcopy(raw_df8)\n",
    "processed_df.reset_index(drop=True,inplace=True)\n",
    "len(processed_df)"
   ]
  },
  {
   "cell_type": "code",
   "execution_count": 316,
   "metadata": {
    "collapsed": false
   },
   "outputs": [],
   "source": [
    "# plt.figure(figsize=(15,10))\n",
    "# sns.heatmap(processed_df.corr())"
   ]
  },
  {
   "cell_type": "markdown",
   "metadata": {},
   "source": [
    "There are so many features, and some are highly correlated with others. Not exactly sure how best to use corr() to help choose features. Since I have domain knowledge on the dataset, I will start with the following features."
   ]
  },
  {
   "cell_type": "code",
   "execution_count": 317,
   "metadata": {
    "collapsed": false
   },
   "outputs": [],
   "source": [
    "feature_cols = ['Bag/Bottle',\n",
    "                'Total Protein (g/dL)',\n",
    "                'CUNO Filt (kg)',\n",
    "                'VP (L)',\n",
    "                'Diluted CPP (kg)',\n",
    "                'CPP IgG before Fr1',\n",
    "                'Cuno IgG FP6',\n",
    "                'I - Final pH',\n",
    "                'I - Aging',\n",
    "                'II+III After Alc pH',\n",
    "                'II+III After Alc Titer',\n",
    "                'II+III - Final pH',\n",
    "                'II+III - Aging',\n",
    "                'II+III Paste Wt',\n",
    "                'Buffer 1 Amt',\n",
    "                'Extract - Final pH',\n",
    "                'Extract - Aging',\n",
    "                'G - Init pH',\n",
    "                'G - titer',\n",
    "                'G - Final pH',\n",
    "                'G - Aging',\n",
    "                'TD_CT',\n",
    "                'FrI_PPT_CT',\n",
    "                'FrII_PPT_CT',\n",
    "                'V13_Sep_CT',\n",
    "                'G_PPT_CT',\n",
    "                'Diluted % Efficiency',\n",
    "                'Yield CP (WT)']\n",
    "\n",
    "# plt.figure(figsize=(15,10))\n",
    "# sns.heatmap(processed_df[feature_cols].corr())"
   ]
  },
  {
   "cell_type": "code",
   "execution_count": 318,
   "metadata": {
    "collapsed": false
   },
   "outputs": [],
   "source": [
    "numOfRows = 6\n",
    "numOfCols = 5\n",
    "x = 1\n",
    "rValues_VS_Yield = {}\n",
    "\n",
    "# figure,axes = plt.subplots(nrows=numOfRows,ncols=numOfCols,figsize=(20,20),sharex=False)\n",
    "# for r in range(numOfRows):\n",
    "#     for c in range(numOfCols):\n",
    "#         if x <len(feature_cols):\n",
    "#             sns.regplot(data=processed_df,x=feature_cols[x],y='Yield CP (WT)',ax=axes[r,c])\n",
    "#             rValues_VS_Yield[feature_cols[x]] = spStats.pearsonr(processed_df['Yield CP (WT)'],processed_df[feature_cols[x]]) \n",
    "#             x = x + 1\n",
    "#         else:\n",
    "#             pass"
   ]
  },
  {
   "cell_type": "code",
   "execution_count": 319,
   "metadata": {
    "collapsed": false
   },
   "outputs": [],
   "source": [
    "numOfRows = 6\n",
    "numOfCols = 5\n",
    "\n",
    "x = 1\n",
    "rValues_VS_Yield = {}\n",
    "# figure,axes = plt.subplots(nrows=numOfRows,ncols=numOfCols,figsize=(20,20),sharex=False)\n",
    "# for r in range(numOfRows):\n",
    "#     for c in range(numOfCols):\n",
    "#         if x <len(feature_cols):\n",
    "#             sns.regplot(data=processed_df,x=feature_cols[x],y='Diluted % Efficiency',ax=axes[r,c])\n",
    "#             rValues_VS_Yield[feature_cols[x]] = spStats.pearsonr(processed_df['Diluted % Efficiency'],processed_df[feature_cols[x]]) \n",
    "#             x = x + 1\n",
    "#         else:\n",
    "#             pass"
   ]
  },
  {
   "cell_type": "markdown",
   "metadata": {},
   "source": [
    "# Conclusion\n",
    "Most of this notebook is on data cleaning and coming up with a clean data set to work with. Some initial feature selection is conducted, but I will do most of the featuring in the next notebook. For now, exploratory analysis is done and I will export the clean data set into a file."
   ]
  },
  {
   "cell_type": "code",
   "execution_count": 320,
   "metadata": {
    "collapsed": false
   },
   "outputs": [],
   "source": [
    "processed_df.to_excel('processed_data.xlsx')"
   ]
  },
  {
   "cell_type": "code",
   "execution_count": null,
   "metadata": {
    "collapsed": true
   },
   "outputs": [],
   "source": []
  }
 ],
 "metadata": {
  "kernelspec": {
   "display_name": "Python 2",
   "language": "python",
   "name": "python2"
  },
  "language_info": {
   "codemirror_mode": {
    "name": "ipython",
    "version": 2
   },
   "file_extension": ".py",
   "mimetype": "text/x-python",
   "name": "python",
   "nbconvert_exporter": "python",
   "pygments_lexer": "ipython2",
   "version": "2.7.11"
  }
 },
 "nbformat": 4,
 "nbformat_minor": 0
}
