{
 "cells": [
  {
   "cell_type": "markdown",
   "metadata": {},
   "source": [
    "# Overview\n",
    "Mult-Label classification is a machine learning problem where each sample can have multiple independent classes/labels at the same time. An example of this sort of problem is classifying a piece of text that can have multiple topics at the same time. \n",
    "\n",
    "In SciKit-Learn, some algorithms are multi-label friendly out of the box, while others need to be wrapped in a OneVsRestClassifier and the target labels will need to be in a 2D binary matrix. This sample notebook shows how to use an algorithm that supports multi-lable classification out of the box and two that need to be wrapped in a OneVsRestClassifier."
   ]
  },
  {
   "cell_type": "code",
   "execution_count": 171,
   "metadata": {
    "collapsed": true
   },
   "outputs": [],
   "source": [
    "# Importing\n",
    "import pandas as pd\n",
    "import numpy as np\n",
    "from sklearn.ensemble import RandomForestClassifier\n",
    "from sklearn.naive_bayes import GaussianNB,MultinomialNB\n",
    "from sklearn.multiclass import OneVsRestClassifier\n",
    "from sklearn.discriminant_analysis import LinearDiscriminantAnalysis\n",
    "from sklearn.cross_decomposition import PLSRegression\n",
    "from sklearn import datasets\n",
    "\n",
    "from sklearn.model_selection import cross_val_predict\n",
    "from sklearn.metrics import classification_report"
   ]
  },
  {
   "cell_type": "code",
   "execution_count": 168,
   "metadata": {
    "collapsed": false
   },
   "outputs": [
    {
     "data": {
      "text/html": [
       "<div>\n",
       "<table border=\"1\" class=\"dataframe\">\n",
       "  <thead>\n",
       "    <tr style=\"text-align: right;\">\n",
       "      <th></th>\n",
       "      <th>a</th>\n",
       "      <th>b</th>\n",
       "      <th>c</th>\n",
       "      <th>d</th>\n",
       "      <th>e</th>\n",
       "      <th>t1</th>\n",
       "      <th>t2</th>\n",
       "      <th>t3</th>\n",
       "    </tr>\n",
       "  </thead>\n",
       "  <tbody>\n",
       "    <tr>\n",
       "      <th>0</th>\n",
       "      <td>5.0</td>\n",
       "      <td>12.0</td>\n",
       "      <td>9.0</td>\n",
       "      <td>31.0</td>\n",
       "      <td>14.0</td>\n",
       "      <td>0</td>\n",
       "      <td>1</td>\n",
       "      <td>0</td>\n",
       "    </tr>\n",
       "    <tr>\n",
       "      <th>1</th>\n",
       "      <td>9.0</td>\n",
       "      <td>7.0</td>\n",
       "      <td>7.0</td>\n",
       "      <td>18.0</td>\n",
       "      <td>10.0</td>\n",
       "      <td>0</td>\n",
       "      <td>1</td>\n",
       "      <td>0</td>\n",
       "    </tr>\n",
       "    <tr>\n",
       "      <th>2</th>\n",
       "      <td>9.0</td>\n",
       "      <td>8.0</td>\n",
       "      <td>8.0</td>\n",
       "      <td>10.0</td>\n",
       "      <td>8.0</td>\n",
       "      <td>0</td>\n",
       "      <td>0</td>\n",
       "      <td>0</td>\n",
       "    </tr>\n",
       "    <tr>\n",
       "      <th>3</th>\n",
       "      <td>2.0</td>\n",
       "      <td>5.0</td>\n",
       "      <td>16.0</td>\n",
       "      <td>5.0</td>\n",
       "      <td>12.0</td>\n",
       "      <td>1</td>\n",
       "      <td>1</td>\n",
       "      <td>1</td>\n",
       "    </tr>\n",
       "    <tr>\n",
       "      <th>4</th>\n",
       "      <td>6.0</td>\n",
       "      <td>3.0</td>\n",
       "      <td>11.0</td>\n",
       "      <td>22.0</td>\n",
       "      <td>13.0</td>\n",
       "      <td>0</td>\n",
       "      <td>1</td>\n",
       "      <td>0</td>\n",
       "    </tr>\n",
       "  </tbody>\n",
       "</table>\n",
       "</div>"
      ],
      "text/plain": [
       "     a     b     c     d     e  t1  t2  t3\n",
       "0  5.0  12.0   9.0  31.0  14.0   0   1   0\n",
       "1  9.0   7.0   7.0  18.0  10.0   0   1   0\n",
       "2  9.0   8.0   8.0  10.0   8.0   0   0   0\n",
       "3  2.0   5.0  16.0   5.0  12.0   1   1   1\n",
       "4  6.0   3.0  11.0  22.0  13.0   0   1   0"
      ]
     },
     "execution_count": 168,
     "metadata": {},
     "output_type": "execute_result"
    }
   ],
   "source": [
    "# Our fake data\n",
    "data = datasets.make_multilabel_classification(n_samples=1000,n_features=5,n_classes=3,n_labels=2,random_state=1)\n",
    "df = pd.DataFrame(data[0],columns=['a','b','c','d','e'])\n",
    "df['t1'] = data[1][:,0]\n",
    "df['t2'] = data[1][:,1]\n",
    "df['t3'] = data[1][:,2]\n",
    "df.head()"
   ]
  },
  {
   "cell_type": "code",
   "execution_count": 169,
   "metadata": {
    "collapsed": false
   },
   "outputs": [],
   "source": [
    "features = df.ix[:,0:5]\n",
    "targets = df.ix[:,-3:]"
   ]
  },
  {
   "cell_type": "markdown",
   "metadata": {},
   "source": [
    "The following shows the outputs of three different classifiers and their cross validation prediction classification reports.\n",
    "\n",
    "The first classifier, RandomForest, comes multi-label friendly out of the box.\n",
    "\n",
    "The second and third classifier, Gaussian Naive Bayes and Linear Discriminate Analysis, are not multi-label friendly. You need to wrap them inside a OneVsRestClassifer scheme, and you will need to make sure the mult-label matrix are in a binary format. Our labels data are already binarized so there's no further pre-processing necessary in this example.\n"
   ]
  },
  {
   "cell_type": "code",
   "execution_count": 170,
   "metadata": {
    "collapsed": false
   },
   "outputs": [
    {
     "name": "stdout",
     "output_type": "stream",
     "text": [
      "RandomForestClassifier(bootstrap=True, class_weight=None, criterion='gini',\n",
      "            max_depth=None, max_features='auto', max_leaf_nodes=None,\n",
      "            min_impurity_split=1e-07, min_samples_leaf=1,\n",
      "            min_samples_split=2, min_weight_fraction_leaf=0.0,\n",
      "            n_estimators=100, n_jobs=-1, oob_score=False, random_state=1,\n",
      "            verbose=0, warm_start=False)\n",
      "             precision    recall  f1-score   support\n",
      "\n",
      "         t1       0.90      0.93      0.92       643\n",
      "         t2       0.92      0.95      0.93       723\n",
      "         t3       0.69      0.58      0.63       215\n",
      "\n",
      "avg / total       0.88      0.89      0.89      1581\n",
      "\n",
      "\n",
      "OneVsRestClassifier(estimator=GaussianNB(priors=None), n_jobs=1)\n",
      "             precision    recall  f1-score   support\n",
      "\n",
      "         t1       0.91      0.90      0.90       643\n",
      "         t2       0.91      0.94      0.92       723\n",
      "         t3       0.65      0.65      0.65       215\n",
      "\n",
      "avg / total       0.87      0.88      0.88      1581\n",
      "\n",
      "\n",
      "OneVsRestClassifier(estimator=LinearDiscriminantAnalysis(n_components=None, priors=None, shrinkage=None,\n",
      "              solver='svd', store_covariance=False, tol=0.0001),\n",
      "          n_jobs=1)\n",
      "             precision    recall  f1-score   support\n",
      "\n",
      "         t1       0.89      0.89      0.89       643\n",
      "         t2       0.90      0.95      0.92       723\n",
      "         t3       0.66      0.47      0.55       215\n",
      "\n",
      "avg / total       0.87      0.86      0.86      1581\n",
      "\n",
      "\n"
     ]
    }
   ],
   "source": [
    "def multiLabel_Classifiers(model):\n",
    "    print model\n",
    "    pred = cross_val_predict(model,features,targets)\n",
    "    print classification_report(targets,pred,target_names=['t1','t2','t3'])\n",
    "    print ''\n",
    "    \n",
    "models = [RandomForestClassifier(n_estimators=100,random_state=1,n_jobs=-1),\n",
    "          OneVsRestClassifier(GaussianNB()),\n",
    "          OneVsRestClassifier(LinearDiscriminantAnalysis())]\n",
    "\n",
    "for model in models:\n",
    "    multiLabel_Classifiers(model)"
   ]
  },
  {
   "cell_type": "code",
   "execution_count": null,
   "metadata": {
    "collapsed": true
   },
   "outputs": [],
   "source": []
  }
 ],
 "metadata": {
  "kernelspec": {
   "display_name": "Python 2",
   "language": "python",
   "name": "python2"
  },
  "language_info": {
   "codemirror_mode": {
    "name": "ipython",
    "version": 2
   },
   "file_extension": ".py",
   "mimetype": "text/x-python",
   "name": "python",
   "nbconvert_exporter": "python",
   "pygments_lexer": "ipython2",
   "version": "2.7.12"
  }
 },
 "nbformat": 4,
 "nbformat_minor": 0
}
