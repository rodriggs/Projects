{
 "cells": [
  {
   "cell_type": "markdown",
   "metadata": {},
   "source": [
    "# Overview\n",
    "In this notebook, I'm trying to recreate a classification scheme for a social media app that takes a short sentence from a user as an input, and apply multi-labels based on the sentence. \n",
    "\n",
    "This is difficult to do because while the number of words a user write can vary quite a bit, the app's nature encourages short one sentence inputs, and sometimes it can be as short as only 1 word. \n",
    "\n",
    "The data was gathered manually from the app, and the multi-label targets were also classified by me (lots of subjectivity, I know...). I am trying to classify 5 different labels concurrently:\n",
    "1. **Pets** - sentence implies it's pet related\n",
    "2. **Secrets** - the nature of the app encourages people to share their secrets\n",
    "3. **Happy** - user sounds happy\n",
    "4. **Sad** - user sounds sad\n",
    "5. **Seasonal** - user said something seasonally related"
   ]
  },
  {
   "cell_type": "code",
   "execution_count": 1,
   "metadata": {
    "collapsed": true
   },
   "outputs": [],
   "source": [
    "import pandas as pd\n",
    "import numpy as np\n",
    "import matplotlib.pyplot as plt\n",
    "import seaborn as sns\n",
    "\n",
    "\n",
    "from mpl_toolkits.mplot3d import Axes3D\n",
    "\n",
    "from sklearn.multiclass import OneVsRestClassifier\n",
    "from sklearn.ensemble import RandomForestClassifier\n",
    "from sklearn.naive_bayes import MultinomialNB, BernoulliNB, GaussianNB\n",
    "from sklearn.metrics import classification_report, accuracy_score\n",
    "from sklearn.model_selection import train_test_split, cross_val_predict, cross_val_score\n",
    "from sklearn.feature_extraction.text import CountVectorizer, TfidfVectorizer\n",
    "from sklearn.neighbors import KNeighborsClassifier\n",
    "\n",
    "from sklearn.pipeline import Pipeline,FeatureUnion\n",
    "\n",
    "from sklearn.base import BaseEstimator,TransformerMixin"
   ]
  },
  {
   "cell_type": "markdown",
   "metadata": {},
   "source": [
    "## For a multi-label classification problem, we need to feed in a binary matrix of labels. I have manually labeled the data set."
   ]
  },
  {
   "cell_type": "code",
   "execution_count": 2,
   "metadata": {
    "collapsed": false
   },
   "outputs": [
    {
     "data": {
      "text/html": [
       "<div>\n",
       "<table border=\"1\" class=\"dataframe\">\n",
       "  <thead>\n",
       "    <tr style=\"text-align: right;\">\n",
       "      <th></th>\n",
       "      <th>Sentence</th>\n",
       "      <th>Pets</th>\n",
       "      <th>Secrets</th>\n",
       "      <th>Happy</th>\n",
       "      <th>Sad</th>\n",
       "      <th>Seasonal</th>\n",
       "    </tr>\n",
       "  </thead>\n",
       "  <tbody>\n",
       "    <tr>\n",
       "      <th>0</th>\n",
       "      <td>You don't want your boyfriend to have female f...</td>\n",
       "      <td>0</td>\n",
       "      <td>1</td>\n",
       "      <td>0</td>\n",
       "      <td>1</td>\n",
       "      <td>0</td>\n",
       "    </tr>\n",
       "    <tr>\n",
       "      <th>1</th>\n",
       "      <td>He rolled over and said \"Since you're having m...</td>\n",
       "      <td>0</td>\n",
       "      <td>1</td>\n",
       "      <td>0</td>\n",
       "      <td>1</td>\n",
       "      <td>0</td>\n",
       "    </tr>\n",
       "    <tr>\n",
       "      <th>2</th>\n",
       "      <td>Who has had a 3some</td>\n",
       "      <td>0</td>\n",
       "      <td>0</td>\n",
       "      <td>0</td>\n",
       "      <td>0</td>\n",
       "      <td>0</td>\n",
       "    </tr>\n",
       "    <tr>\n",
       "      <th>3</th>\n",
       "      <td>I love older women</td>\n",
       "      <td>0</td>\n",
       "      <td>1</td>\n",
       "      <td>0</td>\n",
       "      <td>0</td>\n",
       "      <td>0</td>\n",
       "    </tr>\n",
       "    <tr>\n",
       "      <th>4</th>\n",
       "      <td>Had to go home early from work because of a li...</td>\n",
       "      <td>0</td>\n",
       "      <td>0</td>\n",
       "      <td>0</td>\n",
       "      <td>0</td>\n",
       "      <td>0</td>\n",
       "    </tr>\n",
       "  </tbody>\n",
       "</table>\n",
       "</div>"
      ],
      "text/plain": [
       "                                            Sentence  Pets  Secrets  Happy  \\\n",
       "0  You don't want your boyfriend to have female f...     0        1      0   \n",
       "1  He rolled over and said \"Since you're having m...     0        1      0   \n",
       "2                                Who has had a 3some     0        0      0   \n",
       "3                                 I love older women     0        1      0   \n",
       "4  Had to go home early from work because of a li...     0        0      0   \n",
       "\n",
       "   Sad  Seasonal  \n",
       "0    1         0  \n",
       "1    1         0  \n",
       "2    0         0  \n",
       "3    0         0  \n",
       "4    0         0  "
      ]
     },
     "execution_count": 2,
     "metadata": {},
     "output_type": "execute_result"
    }
   ],
   "source": [
    "df = pd.read_excel('data.xlsx')\n",
    "np.random.seed(seed=1)\n",
    "\n",
    "# Shuffling our data first\n",
    "df = df.iloc[np.random.permutation(len(df))]\n",
    "df.reset_index(drop=True,inplace=True)\n",
    "\n",
    "# Separating our features and targets, i.e. 5 different types of independent labels\n",
    "features = df['Sentence']\n",
    "targets = df.ix[:,-5:]\n",
    "\n",
    "# Let's look at the first 5 sample data points\n",
    "df.head()"
   ]
  },
  {
   "cell_type": "markdown",
   "metadata": {},
   "source": [
    "## Let's start with an algorithm that is multi-label ready out of the box from SciKit-Learn\n",
    "I'm using the handy pipeline function to do text vectorization and model fitting in one go. This is useful for repeatability. Only several algorithms are multi-label ready out of the box from SciKit-Learn, RandomForest is one of them.\n",
    "\n",
    "At the end of each model fitting, I will test it out with the following sentences:\n",
    "* **I love my life**\n",
    "    * Secrets and Happy\n",
    "* **I hate my life**\n",
    "    * Secrets and Sad\n",
    "* **I really want to adopt a dog.**\n",
    "    * Secrets and Pets\n",
    "* **This year's Christmas will be AWESOME!**\n",
    "    * Happy and Seasonal\n",
    "* **Ask me anything**\n",
    "    * No labels should be tagged"
   ]
  },
  {
   "cell_type": "code",
   "execution_count": 3,
   "metadata": {
    "collapsed": true
   },
   "outputs": [],
   "source": [
    "sample = ['I love my life',\n",
    "          'I hate my life',\n",
    "          'I really want to adopt a dog.',\n",
    "          'This year\\'s Christmas will be AWESOME!',\n",
    "          'Ask me anything']"
   ]
  },
  {
   "cell_type": "code",
   "execution_count": 4,
   "metadata": {
    "collapsed": false
   },
   "outputs": [
    {
     "name": "stdout",
     "output_type": "stream",
     "text": [
      "             precision    recall  f1-score   support\n",
      "\n",
      "       Pets       0.00      0.00      0.00        10\n",
      "    Secrets       0.67      0.17      0.27        59\n",
      "      Happy       0.00      0.00      0.00        32\n",
      "        Sad       0.25      0.03      0.05        36\n",
      "   Seasonal       1.00      0.10      0.18        10\n",
      "\n",
      "avg / total       0.40      0.08      0.13       147\n",
      "\n"
     ]
    },
    {
     "name": "stderr",
     "output_type": "stream",
     "text": [
      "C:\\Users\\leungr1\\AppData\\Local\\Continuum\\Anaconda2\\lib\\site-packages\\sklearn\\metrics\\classification.py:1113: UndefinedMetricWarning: Precision and F-score are ill-defined and being set to 0.0 in labels with no predicted samples.\n",
      "  'precision', 'predicted', average, warn_for)\n"
     ]
    },
    {
     "data": {
      "text/html": [
       "<div>\n",
       "<table border=\"1\" class=\"dataframe\">\n",
       "  <thead>\n",
       "    <tr style=\"text-align: right;\">\n",
       "      <th></th>\n",
       "      <th>Pets</th>\n",
       "      <th>Secrets</th>\n",
       "      <th>Happy</th>\n",
       "      <th>Sad</th>\n",
       "      <th>Seasonal</th>\n",
       "      <th>Sample Sentence</th>\n",
       "    </tr>\n",
       "  </thead>\n",
       "  <tbody>\n",
       "    <tr>\n",
       "      <th>0</th>\n",
       "      <td>0.0</td>\n",
       "      <td>1.0</td>\n",
       "      <td>0.0</td>\n",
       "      <td>0.0</td>\n",
       "      <td>0.0</td>\n",
       "      <td>I love my life</td>\n",
       "    </tr>\n",
       "    <tr>\n",
       "      <th>1</th>\n",
       "      <td>0.0</td>\n",
       "      <td>0.0</td>\n",
       "      <td>0.0</td>\n",
       "      <td>0.0</td>\n",
       "      <td>0.0</td>\n",
       "      <td>I hate my life</td>\n",
       "    </tr>\n",
       "    <tr>\n",
       "      <th>2</th>\n",
       "      <td>0.0</td>\n",
       "      <td>1.0</td>\n",
       "      <td>0.0</td>\n",
       "      <td>0.0</td>\n",
       "      <td>0.0</td>\n",
       "      <td>I really want to adopt a dog.</td>\n",
       "    </tr>\n",
       "    <tr>\n",
       "      <th>3</th>\n",
       "      <td>0.0</td>\n",
       "      <td>0.0</td>\n",
       "      <td>0.0</td>\n",
       "      <td>0.0</td>\n",
       "      <td>0.0</td>\n",
       "      <td>This year's Christmas will be AWESOME!</td>\n",
       "    </tr>\n",
       "    <tr>\n",
       "      <th>4</th>\n",
       "      <td>0.0</td>\n",
       "      <td>0.0</td>\n",
       "      <td>0.0</td>\n",
       "      <td>0.0</td>\n",
       "      <td>0.0</td>\n",
       "      <td>Ask me anything</td>\n",
       "    </tr>\n",
       "  </tbody>\n",
       "</table>\n",
       "</div>"
      ],
      "text/plain": [
       "   Pets  Secrets  Happy  Sad  Seasonal                         Sample Sentence\n",
       "0   0.0      1.0    0.0  0.0       0.0                          I love my life\n",
       "1   0.0      0.0    0.0  0.0       0.0                          I hate my life\n",
       "2   0.0      1.0    0.0  0.0       0.0           I really want to adopt a dog.\n",
       "3   0.0      0.0    0.0  0.0       0.0  This year's Christmas will be AWESOME!\n",
       "4   0.0      0.0    0.0  0.0       0.0                         Ask me anything"
      ]
     },
     "execution_count": 4,
     "metadata": {},
     "output_type": "execute_result"
    }
   ],
   "source": [
    "pipe = Pipeline([('CountVec',CountVectorizer(ngram_range=(1,2),stop_words='english')),\n",
    "                 ('model',RandomForestClassifier(random_state=1))])\n",
    "\n",
    "pred = cross_val_predict(pipe,features,targets)\n",
    "\n",
    "print classification_report(targets,pred,target_names=df.columns[-5:])\n",
    "\n",
    "pipe.fit(features,targets)\n",
    "\n",
    "sample_predictions = pipe.predict(pd.Series(sample))\n",
    "\n",
    "tempdf = pd.DataFrame(sample_predictions,columns=df.columns[-5:])\n",
    "tempdf['Sample Sentence'] = sample\n",
    "tempdf"
   ]
  },
  {
   "cell_type": "markdown",
   "metadata": {},
   "source": [
    "RandomForest didn't do so well as you can see from the classification report and the mislabeling of the sample sentences."
   ]
  },
  {
   "cell_type": "markdown",
   "metadata": {},
   "source": [
    "## Let's try a Naive Bayes algorithm, which is commonly used for text classification\n",
    "Naive Bayes algorithms in SK-Learn are not multi-label ready out of the box. However, we can wrap that into a OneVsRest class to do multi-label classification."
   ]
  },
  {
   "cell_type": "code",
   "execution_count": 5,
   "metadata": {
    "collapsed": false
   },
   "outputs": [
    {
     "name": "stdout",
     "output_type": "stream",
     "text": [
      "             precision    recall  f1-score   support\n",
      "\n",
      "       Pets       1.00      0.60      0.75        10\n",
      "    Secrets       0.64      0.83      0.73        59\n",
      "      Happy       0.26      0.19      0.22        32\n",
      "        Sad       0.44      0.31      0.36        36\n",
      "   Seasonal       1.00      0.10      0.18        10\n",
      "\n",
      "avg / total       0.56      0.50      0.49       147\n",
      "\n"
     ]
    },
    {
     "data": {
      "text/html": [
       "<div>\n",
       "<table border=\"1\" class=\"dataframe\">\n",
       "  <thead>\n",
       "    <tr style=\"text-align: right;\">\n",
       "      <th></th>\n",
       "      <th>Pets</th>\n",
       "      <th>Secrets</th>\n",
       "      <th>Happy</th>\n",
       "      <th>Sad</th>\n",
       "      <th>Seasonal</th>\n",
       "      <th>Sample Sentence</th>\n",
       "    </tr>\n",
       "  </thead>\n",
       "  <tbody>\n",
       "    <tr>\n",
       "      <th>0</th>\n",
       "      <td>0</td>\n",
       "      <td>1</td>\n",
       "      <td>1</td>\n",
       "      <td>0</td>\n",
       "      <td>0</td>\n",
       "      <td>I love my life</td>\n",
       "    </tr>\n",
       "    <tr>\n",
       "      <th>1</th>\n",
       "      <td>0</td>\n",
       "      <td>1</td>\n",
       "      <td>0</td>\n",
       "      <td>1</td>\n",
       "      <td>0</td>\n",
       "      <td>I hate my life</td>\n",
       "    </tr>\n",
       "    <tr>\n",
       "      <th>2</th>\n",
       "      <td>1</td>\n",
       "      <td>1</td>\n",
       "      <td>0</td>\n",
       "      <td>1</td>\n",
       "      <td>0</td>\n",
       "      <td>I really want to adopt a dog.</td>\n",
       "    </tr>\n",
       "    <tr>\n",
       "      <th>3</th>\n",
       "      <td>0</td>\n",
       "      <td>0</td>\n",
       "      <td>1</td>\n",
       "      <td>0</td>\n",
       "      <td>1</td>\n",
       "      <td>This year's Christmas will be AWESOME!</td>\n",
       "    </tr>\n",
       "    <tr>\n",
       "      <th>4</th>\n",
       "      <td>0</td>\n",
       "      <td>0</td>\n",
       "      <td>0</td>\n",
       "      <td>0</td>\n",
       "      <td>0</td>\n",
       "      <td>Ask me anything</td>\n",
       "    </tr>\n",
       "  </tbody>\n",
       "</table>\n",
       "</div>"
      ],
      "text/plain": [
       "   Pets  Secrets  Happy  Sad  Seasonal                         Sample Sentence\n",
       "0     0        1      1    0         0                          I love my life\n",
       "1     0        1      0    1         0                          I hate my life\n",
       "2     1        1      0    1         0           I really want to adopt a dog.\n",
       "3     0        0      1    0         1  This year's Christmas will be AWESOME!\n",
       "4     0        0      0    0         0                         Ask me anything"
      ]
     },
     "execution_count": 5,
     "metadata": {},
     "output_type": "execute_result"
    }
   ],
   "source": [
    "# Naive Bayes algorithms need to be wrapped in a OneVsRest class in order to do multi-label classification.\n",
    "pipe = Pipeline([('CountVec',CountVectorizer(ngram_range=(1,2),stop_words='english')),\n",
    "                 ('model',OneVsRestClassifier(MultinomialNB()))])\n",
    "\n",
    "pred = cross_val_predict(pipe,features,targets)\n",
    "\n",
    "print classification_report(targets,pred,target_names=df.columns[-5:])\n",
    "\n",
    "pipe.fit(features,targets)\n",
    "\n",
    "sample_predictions = pipe.predict(pd.Series(sample))\n",
    "\n",
    "tempdf = pd.DataFrame(sample_predictions,columns=df.columns[-5:])\n",
    "tempdf['Sample Sentence'] = sample\n",
    "tempdf"
   ]
  },
  {
   "cell_type": "markdown",
   "metadata": {},
   "source": [
    "A MultinomialNB did a lot better than RandomForest, even though the scores still have a lot of room for improvement. And also, the sample sentence labeling was what I expected them to be, except that \"I really want to adopt a dog\" was labeled with sad to my surprise. \n",
    "\n",
    "MultinomialNB is used on data that are positive integers, which is perfect in our case since our CountVectorizer gives us counts of words. "
   ]
  },
  {
   "cell_type": "markdown",
   "metadata": {},
   "source": [
    "## Let's try a a different NB algorithm that focuses on binary inputs\n",
    "Another variation of NB is BernoulliNB, which follows a Bernoulli distribution. It simulates the probability of a binary output, i.e. 1 or 0. Let's adjust our CountVectorizer to output in binary also."
   ]
  },
  {
   "cell_type": "code",
   "execution_count": 6,
   "metadata": {
    "collapsed": false
   },
   "outputs": [
    {
     "name": "stdout",
     "output_type": "stream",
     "text": [
      "             precision    recall  f1-score   support\n",
      "\n",
      "       Pets       0.00      0.00      0.00        10\n",
      "    Secrets       0.51      0.36      0.42        59\n",
      "      Happy       0.00      0.00      0.00        32\n",
      "        Sad       0.00      0.00      0.00        36\n",
      "   Seasonal       0.00      0.00      0.00        10\n",
      "\n",
      "avg / total       0.21      0.14      0.17       147\n",
      "\n"
     ]
    },
    {
     "data": {
      "text/html": [
       "<div>\n",
       "<table border=\"1\" class=\"dataframe\">\n",
       "  <thead>\n",
       "    <tr style=\"text-align: right;\">\n",
       "      <th></th>\n",
       "      <th>Pets</th>\n",
       "      <th>Secrets</th>\n",
       "      <th>Happy</th>\n",
       "      <th>Sad</th>\n",
       "      <th>Seasonal</th>\n",
       "      <th>Sample Sentence</th>\n",
       "    </tr>\n",
       "  </thead>\n",
       "  <tbody>\n",
       "    <tr>\n",
       "      <th>0</th>\n",
       "      <td>0</td>\n",
       "      <td>1</td>\n",
       "      <td>0</td>\n",
       "      <td>0</td>\n",
       "      <td>0</td>\n",
       "      <td>I love my life</td>\n",
       "    </tr>\n",
       "    <tr>\n",
       "      <th>1</th>\n",
       "      <td>0</td>\n",
       "      <td>1</td>\n",
       "      <td>0</td>\n",
       "      <td>0</td>\n",
       "      <td>0</td>\n",
       "      <td>I hate my life</td>\n",
       "    </tr>\n",
       "    <tr>\n",
       "      <th>2</th>\n",
       "      <td>0</td>\n",
       "      <td>1</td>\n",
       "      <td>0</td>\n",
       "      <td>0</td>\n",
       "      <td>0</td>\n",
       "      <td>I really want to adopt a dog.</td>\n",
       "    </tr>\n",
       "    <tr>\n",
       "      <th>3</th>\n",
       "      <td>0</td>\n",
       "      <td>1</td>\n",
       "      <td>0</td>\n",
       "      <td>0</td>\n",
       "      <td>0</td>\n",
       "      <td>This year's Christmas will be AWESOME!</td>\n",
       "    </tr>\n",
       "    <tr>\n",
       "      <th>4</th>\n",
       "      <td>0</td>\n",
       "      <td>1</td>\n",
       "      <td>0</td>\n",
       "      <td>0</td>\n",
       "      <td>0</td>\n",
       "      <td>Ask me anything</td>\n",
       "    </tr>\n",
       "  </tbody>\n",
       "</table>\n",
       "</div>"
      ],
      "text/plain": [
       "   Pets  Secrets  Happy  Sad  Seasonal                         Sample Sentence\n",
       "0     0        1      0    0         0                          I love my life\n",
       "1     0        1      0    0         0                          I hate my life\n",
       "2     0        1      0    0         0           I really want to adopt a dog.\n",
       "3     0        1      0    0         0  This year's Christmas will be AWESOME!\n",
       "4     0        1      0    0         0                         Ask me anything"
      ]
     },
     "execution_count": 6,
     "metadata": {},
     "output_type": "execute_result"
    }
   ],
   "source": [
    "pipe = Pipeline([('CountVec',CountVectorizer(ngram_range=(1,2),stop_words='english',binary=True)),\n",
    "                 ('model',OneVsRestClassifier(BernoulliNB()))])\n",
    "\n",
    "pred = cross_val_predict(pipe,features,targets)\n",
    "\n",
    "print classification_report(targets,pred,target_names=df.columns[-5:])\n",
    "\n",
    "pipe.fit(features,targets)\n",
    "\n",
    "sample_predictions = pipe.predict(pd.Series(sample))\n",
    "\n",
    "tempdf = pd.DataFrame(sample_predictions,columns=df.columns[-5:])\n",
    "tempdf['Sample Sentence'] = sample\n",
    "tempdf"
   ]
  },
  {
   "cell_type": "markdown",
   "metadata": {},
   "source": [
    "That did not work so well..."
   ]
  },
  {
   "cell_type": "markdown",
   "metadata": {},
   "source": [
    "## Let's try one more NB, GaussianNB\n",
    "Some algorithms cannot directly take in a sparse matrix, which is what CountVectorizer outputs. To continue using a pipeline, we will need to write a custom transformer, sandwiched between the CountVectorizer and our classifer, to transform our sparse matrix into an array."
   ]
  },
  {
   "cell_type": "code",
   "execution_count": 7,
   "metadata": {
    "collapsed": false
   },
   "outputs": [
    {
     "name": "stdout",
     "output_type": "stream",
     "text": [
      "             precision    recall  f1-score   support\n",
      "\n",
      "       Pets       0.29      0.70      0.41        10\n",
      "    Secrets       0.81      0.75      0.78        59\n",
      "      Happy       0.28      0.47      0.35        32\n",
      "        Sad       0.39      0.64      0.48        36\n",
      "   Seasonal       0.21      0.50      0.29        10\n",
      "\n",
      "avg / total       0.52      0.64      0.56       147\n",
      "\n"
     ]
    },
    {
     "data": {
      "text/html": [
       "<div>\n",
       "<table border=\"1\" class=\"dataframe\">\n",
       "  <thead>\n",
       "    <tr style=\"text-align: right;\">\n",
       "      <th></th>\n",
       "      <th>Pets</th>\n",
       "      <th>Secrets</th>\n",
       "      <th>Happy</th>\n",
       "      <th>Sad</th>\n",
       "      <th>Seasonal</th>\n",
       "      <th>Sample Sentence</th>\n",
       "    </tr>\n",
       "  </thead>\n",
       "  <tbody>\n",
       "    <tr>\n",
       "      <th>0</th>\n",
       "      <td>0</td>\n",
       "      <td>0</td>\n",
       "      <td>1</td>\n",
       "      <td>1</td>\n",
       "      <td>0</td>\n",
       "      <td>I love my life</td>\n",
       "    </tr>\n",
       "    <tr>\n",
       "      <th>1</th>\n",
       "      <td>0</td>\n",
       "      <td>1</td>\n",
       "      <td>0</td>\n",
       "      <td>1</td>\n",
       "      <td>0</td>\n",
       "      <td>I hate my life</td>\n",
       "    </tr>\n",
       "    <tr>\n",
       "      <th>2</th>\n",
       "      <td>1</td>\n",
       "      <td>1</td>\n",
       "      <td>0</td>\n",
       "      <td>1</td>\n",
       "      <td>0</td>\n",
       "      <td>I really want to adopt a dog.</td>\n",
       "    </tr>\n",
       "    <tr>\n",
       "      <th>3</th>\n",
       "      <td>0</td>\n",
       "      <td>0</td>\n",
       "      <td>1</td>\n",
       "      <td>0</td>\n",
       "      <td>1</td>\n",
       "      <td>This year's Christmas will be AWESOME!</td>\n",
       "    </tr>\n",
       "    <tr>\n",
       "      <th>4</th>\n",
       "      <td>0</td>\n",
       "      <td>0</td>\n",
       "      <td>0</td>\n",
       "      <td>0</td>\n",
       "      <td>0</td>\n",
       "      <td>Ask me anything</td>\n",
       "    </tr>\n",
       "  </tbody>\n",
       "</table>\n",
       "</div>"
      ],
      "text/plain": [
       "   Pets  Secrets  Happy  Sad  Seasonal                         Sample Sentence\n",
       "0     0        0      1    1         0                          I love my life\n",
       "1     0        1      0    1         0                          I hate my life\n",
       "2     1        1      0    1         0           I really want to adopt a dog.\n",
       "3     0        0      1    0         1  This year's Christmas will be AWESOME!\n",
       "4     0        0      0    0         0                         Ask me anything"
      ]
     },
     "execution_count": 7,
     "metadata": {},
     "output_type": "execute_result"
    }
   ],
   "source": [
    "# GaussianNB cannot take in a sparse matrix, so a custom transformer is needed to convert the CountVectorizer output\n",
    "# into an array\n",
    "class ArrayTransformer(BaseEstimator,TransformerMixin):\n",
    "    def fit(self,X,y=None):\n",
    "        return self\n",
    "    def transform(self,X,y=None):\n",
    "        return X.toarray()\n",
    "\n",
    "pipe = Pipeline([('CountVec',CountVectorizer(ngram_range=(1,2),stop_words='english')),\n",
    "                 ('ArrayTransform',ArrayTransformer()),\n",
    "                 ('model',OneVsRestClassifier(GaussianNB()))\n",
    "                ])\n",
    "\n",
    "pred = cross_val_predict(pipe,features,targets)\n",
    "\n",
    "print classification_report(targets,pred,target_names=df.columns[-5:])\n",
    "\n",
    "pipe.fit(features,targets)\n",
    "sample_predictions = pipe.predict(pd.Series(sample))\n",
    "\n",
    "tempdf = pd.DataFrame(sample_predictions,columns=df.columns[-5:])\n",
    "tempdf['Sample Sentence'] = sample\n",
    "tempdf"
   ]
  },
  {
   "cell_type": "markdown",
   "metadata": {},
   "source": [
    "Looking at the f1-score and the labeling results of our sample sentences, it seems like GaussianNB was the best performing one! However, note that I did not do rigorous testing such as nested cross validation, using a different vectorizer such as TF-IDF, and hyperparameters tuning (n-grams, binary counts, etc.), which could potentially improve our model. Also, the sentence \"I love my life\" was not labeled as a secret as expected."
   ]
  },
  {
   "cell_type": "markdown",
   "metadata": {},
   "source": [
    "### Adding a new feature to try to improve the model\n",
    "\n",
    "Actually, the best way to improve a model is not fine tuning the hyper parameters. It's getting more relevant data and feature engineering. I don't have easy access to more data, but let's try to add a new feature. The easiest one that comes to mind is including the word count. Perhaps the number of words in each user input can help us separate the labels better?\n",
    "\n",
    "Let's write another custom transformer to add the word count to our feature space."
   ]
  },
  {
   "cell_type": "code",
   "execution_count": 8,
   "metadata": {
    "collapsed": false
   },
   "outputs": [],
   "source": [
    "class AddWordCount(BaseEstimator,TransformerMixin):\n",
    "    def CountWords(self,sentence):\n",
    "        return len(sentence.split(' '))\n",
    "    def fit(self,df,y=None):\n",
    "        return self\n",
    "    def transform(self,series,y=None):\n",
    "        # Need to reshaped in order to be concatenated with our CountVec \n",
    "        return np.array(series.apply(self.CountWords)).reshape(-1,1)"
   ]
  },
  {
   "cell_type": "code",
   "execution_count": 9,
   "metadata": {
    "collapsed": false
   },
   "outputs": [
    {
     "name": "stdout",
     "output_type": "stream",
     "text": [
      "             precision    recall  f1-score   support\n",
      "\n",
      "       Pets       0.29      0.70      0.41        10\n",
      "    Secrets       0.81      0.75      0.78        59\n",
      "      Happy       0.28      0.50      0.36        32\n",
      "        Sad       0.39      0.61      0.47        36\n",
      "   Seasonal       0.21      0.50      0.29        10\n",
      "\n",
      "avg / total       0.52      0.64      0.55       147\n",
      "\n"
     ]
    },
    {
     "data": {
      "text/html": [
       "<div>\n",
       "<table border=\"1\" class=\"dataframe\">\n",
       "  <thead>\n",
       "    <tr style=\"text-align: right;\">\n",
       "      <th></th>\n",
       "      <th>Pets</th>\n",
       "      <th>Secrets</th>\n",
       "      <th>Happy</th>\n",
       "      <th>Sad</th>\n",
       "      <th>Seasonal</th>\n",
       "      <th>Sample Sentence</th>\n",
       "    </tr>\n",
       "  </thead>\n",
       "  <tbody>\n",
       "    <tr>\n",
       "      <th>0</th>\n",
       "      <td>0</td>\n",
       "      <td>0</td>\n",
       "      <td>1</td>\n",
       "      <td>1</td>\n",
       "      <td>0</td>\n",
       "      <td>I love my life</td>\n",
       "    </tr>\n",
       "    <tr>\n",
       "      <th>1</th>\n",
       "      <td>0</td>\n",
       "      <td>1</td>\n",
       "      <td>0</td>\n",
       "      <td>1</td>\n",
       "      <td>0</td>\n",
       "      <td>I hate my life</td>\n",
       "    </tr>\n",
       "    <tr>\n",
       "      <th>2</th>\n",
       "      <td>1</td>\n",
       "      <td>1</td>\n",
       "      <td>0</td>\n",
       "      <td>1</td>\n",
       "      <td>0</td>\n",
       "      <td>I really want to adopt a dog.</td>\n",
       "    </tr>\n",
       "    <tr>\n",
       "      <th>3</th>\n",
       "      <td>0</td>\n",
       "      <td>0</td>\n",
       "      <td>1</td>\n",
       "      <td>0</td>\n",
       "      <td>1</td>\n",
       "      <td>This year's Christmas will be AWESOME!</td>\n",
       "    </tr>\n",
       "    <tr>\n",
       "      <th>4</th>\n",
       "      <td>0</td>\n",
       "      <td>0</td>\n",
       "      <td>0</td>\n",
       "      <td>0</td>\n",
       "      <td>0</td>\n",
       "      <td>Ask me anything</td>\n",
       "    </tr>\n",
       "  </tbody>\n",
       "</table>\n",
       "</div>"
      ],
      "text/plain": [
       "   Pets  Secrets  Happy  Sad  Seasonal                         Sample Sentence\n",
       "0     0        0      1    1         0                          I love my life\n",
       "1     0        1      0    1         0                          I hate my life\n",
       "2     1        1      0    1         0           I really want to adopt a dog.\n",
       "3     0        0      1    0         1  This year's Christmas will be AWESOME!\n",
       "4     0        0      0    0         0                         Ask me anything"
      ]
     },
     "execution_count": 9,
     "metadata": {},
     "output_type": "execute_result"
    }
   ],
   "source": [
    "pipe = Pipeline([('getFeatures',FeatureUnion([('addWordCount',AddWordCount()),\n",
    "                                              ('CountVec',CountVectorizer(stop_words='english'))])),\n",
    "                 ('ArrayTransform',ArrayTransformer()),\n",
    "                 ('model',OneVsRestClassifier(GaussianNB()))\n",
    "                ])\n",
    "\n",
    "pred = cross_val_predict(pipe,features,targets)\n",
    "\n",
    "print classification_report(targets,pred,target_names=df.columns[-5:])\n",
    "\n",
    "pipe.fit(features,targets)\n",
    "\n",
    "sample_predictions = pipe.predict(pd.Series(sample))\n",
    "\n",
    "tempdf = pd.DataFrame(sample_predictions,columns=df.columns[-5:])\n",
    "tempdf['Sample Sentence'] = sample\n",
    "tempdf"
   ]
  },
  {
   "cell_type": "markdown",
   "metadata": {
    "collapsed": true
   },
   "source": [
    "Adding the word count feature doesn't seem like it did anything..."
   ]
  },
  {
   "cell_type": "markdown",
   "metadata": {},
   "source": [
    "## Visualize our data with dimensionality reduction\n",
    "Visualizing data is often useful in helping us understnad how best to divide our data, but this is often a difficult task for text features. Each word is considered a dimension in terms of our feature space, and our data set has around 500 dimensions after our vectorizer.\n",
    "\n",
    "One way to visualize our data is to reduce the dimensions via processes like Principal Component Analysis (PCA). Let's visualize how our 5 different labels look like when we reduce 500 dimensions down to 3."
   ]
  },
  {
   "cell_type": "code",
   "execution_count": 10,
   "metadata": {
    "collapsed": true
   },
   "outputs": [],
   "source": [
    "from sklearn.decomposition import PCA\n",
    "%matplotlib inline"
   ]
  },
  {
   "cell_type": "code",
   "execution_count": 11,
   "metadata": {
    "collapsed": false
   },
   "outputs": [
    {
     "data": {
      "image/png": "[encoded data removed]",
      "text/plain": [
       "<matplotlib.figure.Figure at 0xcb72358>"
      ]
     },
     "metadata": {},
     "output_type": "display_data"
    }
   ],
   "source": [
    "vec = CountVectorizer(ngram_range=(1,2),stop_words='english')\n",
    "dtm = vec.fit_transform(features)\n",
    "\n",
    "decompose = PCA(n_components=3,random_state=1)\n",
    "components = decompose.fit_transform(dtm.toarray())\n",
    "\n",
    "fig = plt.figure(figsize=(8,8))\n",
    "ax = fig.add_subplot(1,1,1, projection='3d')\n",
    "\n",
    "pets_mask = df['Pets'] == 1\n",
    "secrets_mask = df['Secrets'] == 1\n",
    "happy_mask = df['Happy'] == 1\n",
    "sad_mask = df['Sad'] == 1\n",
    "seasonal_mask = df['Seasonal'] == 1\n",
    "\n",
    "pets_components = components[np.array(pets_mask)]\n",
    "secrets_components = components[np.array(secrets_mask)]\n",
    "happy_components = components[np.array(happy_mask)]\n",
    "sad_components = components[np.array(sad_mask)]\n",
    "seasonal_components = components[np.array(seasonal_mask)]\n",
    "\n",
    "all_components = [pets_components,secrets_components,happy_components,sad_components,seasonal_components]\n",
    "c = ['b','r','y','g','k']\n",
    "labels = ['Pets','Secrets','Happy','Sad','Seasonal']\n",
    "\n",
    "for component,c,label in zip(all_components,c,labels):\n",
    "    ax.scatter(xs=component[:,0],ys=component[:,1],zs=component[:,2],alpha=0.6,c=c,\n",
    "               label=label)\n",
    "\n",
    "ax.view_init(20,150); ax.legend()\n",
    "ax.set_xlabel('PCA Component 1'); ax.set_ylabel('PCA Component 2'); ax.set_zlabel('PCA Component 3')\n",
    "plt.show()"
   ]
  },
  {
   "cell_type": "markdown",
   "metadata": {},
   "source": [
    "Even with 3 dimensions, it doesn't seem like there are any clear boundaries or obvious clusters. For sample points with multiple labels, you will see colors blending into each other since I made the data points transparent. Perhaps more dimensions are needed to separate our data, but visually, we are limited to 3 dimensions only."
   ]
  },
  {
   "cell_type": "markdown",
   "metadata": {},
   "source": [
    "# Conclusion:\n",
    "\n",
    "I tried several classifiers and played around with some feature engineering (word frequency counts vs binary, and adding number of words). \n",
    "\n",
    "The classification results aren't exactly stellar and obviously there are lots of room for improvement. Having more data and more advanced model selection techniques such as nested cross validation and hyperparameters tuning can potentially yield better accuracy results. \n",
    "\n",
    "On a bright note, given the small amount of training data available, I am surprised that the MultinomailNB and GaussianNB model were able to correctly tag the multi-labels of the sample sentences. There are many more aspects of the social media app that I'm not considering when building this model, which I believe could be used as features for more accurate classification. \n",
    "\n",
    "With accurate multi-label classification, I believe the social app can use the results to recommend items that the user likes."
   ]
  }
 ],
 "metadata": {
  "kernelspec": {
   "display_name": "Python 2",
   "language": "python",
   "name": "python2"
  },
  "language_info": {
   "codemirror_mode": {
    "name": "ipython",
    "version": 2
   },
   "file_extension": ".py",
   "mimetype": "text/x-python",
   "name": "python",
   "nbconvert_exporter": "python",
   "pygments_lexer": "ipython2",
   "version": "2.7.11"
  }
 },
 "nbformat": 4,
 "nbformat_minor": 0
}
