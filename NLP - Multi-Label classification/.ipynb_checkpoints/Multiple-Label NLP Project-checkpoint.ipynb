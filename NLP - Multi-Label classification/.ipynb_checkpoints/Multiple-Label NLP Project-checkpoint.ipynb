{
 "cells": [
  {
   "cell_type": "code",
   "execution_count": 1,
   "metadata": {
    "collapsed": true
   },
   "outputs": [],
   "source": [
    "import pandas as pd\n",
    "import numpy as np\n",
    "import matplotlib.pyplot as plt\n",
    "import seaborn as sns\n",
    "%matplotlib inline\n",
    "\n",
    "from sklearn.multiclass import OneVsRestClassifier\n",
    "from sklearn.ensemble import RandomForestClassifier\n",
    "from sklearn.linear_model import LogisticRegression\n",
    "from sklearn.naive_bayes import MultinomialNB,BernoulliNB\n",
    "from sklearn.metrics import classification_report,accuracy_score\n",
    "from sklearn.model_selection import train_test_split,cross_val_predict,cross_val_score\n",
    "from sklearn.feature_extraction.text import CountVectorizer,TfidfVectorizer\n",
    "\n",
    "from sklearn.pipeline import Pipeline,FeatureUnion\n",
    "\n",
    "from sklearn.base import BaseEstimator,TransformerMixin"
   ]
  },
  {
   "cell_type": "code",
   "execution_count": 3,
   "metadata": {
    "collapsed": false
   },
   "outputs": [
    {
     "data": {
      "text/html": [
       "<div>\n",
       "<table border=\"1\" class=\"dataframe\">\n",
       "  <thead>\n",
       "    <tr style=\"text-align: right;\">\n",
       "      <th></th>\n",
       "      <th>Sentence</th>\n",
       "      <th>Pets</th>\n",
       "      <th>Secrets</th>\n",
       "      <th>Happy</th>\n",
       "      <th>Sad</th>\n",
       "      <th>Seasonal</th>\n",
       "    </tr>\n",
       "  </thead>\n",
       "  <tbody>\n",
       "    <tr>\n",
       "      <th>0</th>\n",
       "      <td>Has anyone seen \"life is beautiful\"?</td>\n",
       "      <td>0</td>\n",
       "      <td>0</td>\n",
       "      <td>1</td>\n",
       "      <td>0</td>\n",
       "      <td>0</td>\n",
       "    </tr>\n",
       "    <tr>\n",
       "      <th>1</th>\n",
       "      <td>Does anyone want to chat</td>\n",
       "      <td>0</td>\n",
       "      <td>0</td>\n",
       "      <td>0</td>\n",
       "      <td>0</td>\n",
       "      <td>0</td>\n",
       "    </tr>\n",
       "    <tr>\n",
       "      <th>2</th>\n",
       "      <td>My heart is banging like a drum. My head is wh...</td>\n",
       "      <td>0</td>\n",
       "      <td>1</td>\n",
       "      <td>0</td>\n",
       "      <td>1</td>\n",
       "      <td>0</td>\n",
       "    </tr>\n",
       "    <tr>\n",
       "      <th>3</th>\n",
       "      <td>Feelings are overrated you guys, we're all goi...</td>\n",
       "      <td>0</td>\n",
       "      <td>0</td>\n",
       "      <td>1</td>\n",
       "      <td>0</td>\n",
       "      <td>0</td>\n",
       "    </tr>\n",
       "    <tr>\n",
       "      <th>4</th>\n",
       "      <td>Anyone in Auckland got some green to share? F19</td>\n",
       "      <td>0</td>\n",
       "      <td>0</td>\n",
       "      <td>0</td>\n",
       "      <td>0</td>\n",
       "      <td>0</td>\n",
       "    </tr>\n",
       "  </tbody>\n",
       "</table>\n",
       "</div>"
      ],
      "text/plain": [
       "                                            Sentence  Pets  Secrets  Happy  \\\n",
       "0               Has anyone seen \"life is beautiful\"?     0        0      1   \n",
       "1                           Does anyone want to chat     0        0      0   \n",
       "2  My heart is banging like a drum. My head is wh...     0        1      0   \n",
       "3  Feelings are overrated you guys, we're all goi...     0        0      1   \n",
       "4    Anyone in Auckland got some green to share? F19     0        0      0   \n",
       "\n",
       "   Sad  Seasonal  \n",
       "0    0         0  \n",
       "1    0         0  \n",
       "2    1         0  \n",
       "3    0         0  \n",
       "4    0         0  "
      ]
     },
     "execution_count": 3,
     "metadata": {},
     "output_type": "execute_result"
    }
   ],
   "source": [
    "df = pd.read_excel('Whisper data.xlsx',sheetname='data')\n",
    "np.random.seed(seed=1)\n",
    "# Shuffling our data first\n",
    "df = df.iloc[np.random.permutation(len(df))]\n",
    "df.reset_index(drop=True,inplace=True)\n",
    "features = df['Sentence']\n",
    "targets = df.ix[:,-5:]\n",
    "\n",
    "df.head()"
   ]
  },
  {
   "cell_type": "code",
   "execution_count": 204,
   "metadata": {
    "collapsed": false
   },
   "outputs": [
    {
     "name": "stdout",
     "output_type": "stream",
     "text": [
      "             precision    recall  f1-score   support\n",
      "\n",
      "       Pets       1.00      0.10      0.18        10\n",
      "    Secrets       0.90      0.15      0.26        59\n",
      "      Happy       0.00      0.00      0.00        32\n",
      "        Sad       0.33      0.03      0.05        36\n",
      "   Seasonal       1.00      0.20      0.33        10\n",
      "\n",
      "avg / total       0.58      0.09      0.15       147\n",
      "\n"
     ]
    },
    {
     "data": {
      "text/html": [
       "<div>\n",
       "<table border=\"1\" class=\"dataframe\">\n",
       "  <thead>\n",
       "    <tr style=\"text-align: right;\">\n",
       "      <th></th>\n",
       "      <th>Pets</th>\n",
       "      <th>Secrets</th>\n",
       "      <th>Happy</th>\n",
       "      <th>Sad</th>\n",
       "      <th>Seasonal</th>\n",
       "      <th>Sample Sentence</th>\n",
       "    </tr>\n",
       "  </thead>\n",
       "  <tbody>\n",
       "    <tr>\n",
       "      <th>0</th>\n",
       "      <td>0.0</td>\n",
       "      <td>1.0</td>\n",
       "      <td>1.0</td>\n",
       "      <td>0.0</td>\n",
       "      <td>0.0</td>\n",
       "      <td>I love my life</td>\n",
       "    </tr>\n",
       "    <tr>\n",
       "      <th>1</th>\n",
       "      <td>0.0</td>\n",
       "      <td>1.0</td>\n",
       "      <td>0.0</td>\n",
       "      <td>1.0</td>\n",
       "      <td>0.0</td>\n",
       "      <td>I hate my life</td>\n",
       "    </tr>\n",
       "  </tbody>\n",
       "</table>\n",
       "</div>"
      ],
      "text/plain": [
       "   Pets  Secrets  Happy  Sad  Seasonal Sample Sentence\n",
       "0   0.0      1.0    1.0  0.0       0.0  I love my life\n",
       "1   0.0      1.0    0.0  1.0       0.0  I hate my life"
      ]
     },
     "execution_count": 204,
     "metadata": {},
     "output_type": "execute_result"
    }
   ],
   "source": [
    "pipe = Pipeline([('CountVec',CountVectorizer(stop_words='english')),\n",
    "                 ('model',RandomForestClassifier(random_state=1))])\n",
    "\n",
    "pred = cross_val_predict(pipe,features,targets)\n",
    "\n",
    "print classification_report(targets,pred,target_names=df.columns[-5:])\n",
    "\n",
    "pipe.fit(features,targets)\n",
    "sample = ['I love my life','I hate my life']\n",
    "sample_predictions = pipe.predict(pd.Series(sample))\n",
    "\n",
    "tempdf = pd.DataFrame(sample_predictions,columns=df.columns[-5:])\n",
    "tempdf['Sample Sentence'] = sample\n",
    "tempdf"
   ]
  },
  {
   "cell_type": "code",
   "execution_count": 111,
   "metadata": {
    "collapsed": false
   },
   "outputs": [],
   "source": [
    "class AddWordCount(BaseEstimator,TransformerMixin):\n",
    "    def __init__(self):\n",
    "        pass\n",
    "    def CountWords(self,sentence):\n",
    "        return len(sentence.split(' '))\n",
    "    def fit(self,df,y=None):\n",
    "        return self\n",
    "    def transform(self,series,y=None):\n",
    "        return np.array(series.apply(self.CountWords)).reshape(-1,1)"
   ]
  },
  {
   "cell_type": "code",
   "execution_count": 203,
   "metadata": {
    "collapsed": false
   },
   "outputs": [
    {
     "name": "stdout",
     "output_type": "stream",
     "text": [
      "             precision    recall  f1-score   support\n",
      "\n",
      "       Pets       1.00      0.10      0.18        10\n",
      "    Secrets       0.80      0.73      0.76        59\n",
      "      Happy       0.50      0.03      0.06        32\n",
      "        Sad       0.32      0.33      0.33        36\n",
      "   Seasonal       0.00      0.00      0.00        10\n",
      "\n",
      "avg / total       0.58      0.39      0.41       147\n",
      "\n"
     ]
    },
    {
     "data": {
      "text/html": [
       "<div>\n",
       "<table border=\"1\" class=\"dataframe\">\n",
       "  <thead>\n",
       "    <tr style=\"text-align: right;\">\n",
       "      <th></th>\n",
       "      <th>Pets</th>\n",
       "      <th>Secrets</th>\n",
       "      <th>Happy</th>\n",
       "      <th>Sad</th>\n",
       "      <th>Seasonal</th>\n",
       "      <th>Sample Sentence</th>\n",
       "    </tr>\n",
       "  </thead>\n",
       "  <tbody>\n",
       "    <tr>\n",
       "      <th>0</th>\n",
       "      <td>0.0</td>\n",
       "      <td>1.0</td>\n",
       "      <td>0.0</td>\n",
       "      <td>0.0</td>\n",
       "      <td>0.0</td>\n",
       "      <td>I love my life</td>\n",
       "    </tr>\n",
       "    <tr>\n",
       "      <th>1</th>\n",
       "      <td>0.0</td>\n",
       "      <td>0.0</td>\n",
       "      <td>0.0</td>\n",
       "      <td>0.0</td>\n",
       "      <td>0.0</td>\n",
       "      <td>I hate my life</td>\n",
       "    </tr>\n",
       "  </tbody>\n",
       "</table>\n",
       "</div>"
      ],
      "text/plain": [
       "   Pets  Secrets  Happy  Sad  Seasonal Sample Sentence\n",
       "0   0.0      1.0    0.0  0.0       0.0  I love my life\n",
       "1   0.0      0.0    0.0  0.0       0.0  I hate my life"
      ]
     },
     "execution_count": 203,
     "metadata": {},
     "output_type": "execute_result"
    }
   ],
   "source": [
    "pipe = Pipeline([('getFeatures',FeatureUnion([('addWordCount',AddWordCount()),\n",
    "                                              ('CountVec',TfidfVectorizer(stop_words='english'))])),\n",
    "                 ('model',RandomForestClassifier(random_state=1))])\n",
    "\n",
    "pred = cross_val_predict(pipe,features,targets)\n",
    "\n",
    "print classification_report(targets,pred,target_names=df.columns[-5:])\n",
    "\n",
    "pipe.fit(features,targets)\n",
    "sample = ['I love my life','I hate my life']\n",
    "sample_predictions = pipe.predict(pd.Series(sample))\n",
    "\n",
    "tempdf = pd.DataFrame(sample_predictions,columns=df.columns[-5:])\n",
    "tempdf['Sample Sentence'] = sample\n",
    "tempdf"
   ]
  },
  {
   "cell_type": "code",
   "execution_count": null,
   "metadata": {
    "collapsed": true
   },
   "outputs": [],
   "source": []
  }
 ],
 "metadata": {
  "kernelspec": {
   "display_name": "Python 2",
   "language": "python",
   "name": "python2"
  },
  "language_info": {
   "codemirror_mode": {
    "name": "ipython",
    "version": 2
   },
   "file_extension": ".py",
   "mimetype": "text/x-python",
   "name": "python",
   "nbconvert_exporter": "python",
   "pygments_lexer": "ipython2",
   "version": "2.7.11"
  }
 },
 "nbformat": 4,
 "nbformat_minor": 0
}
